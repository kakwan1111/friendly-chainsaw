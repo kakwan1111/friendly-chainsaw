{
 "cells": [
  {
   "cell_type": "markdown",
   "id": "9MrO9BtQl1zZ",
   "metadata": {
    "id": "9MrO9BtQl1zZ"
   },
   "source": [
    "# Machine Learning used to build a Diversified Portfolio: K-Means Clustering\n",
    "\n"
   ]
  },
  {
   "cell_type": "code",
   "execution_count": 77,
   "id": "LH_pzrHZlBhe",
   "metadata": {
    "id": "LH_pzrHZlBhe"
   },
   "outputs": [],
   "source": [
    "#!pip install kneed\n",
    "#!pip install finviz\n",
    "#!pip install yfinance"
   ]
  },
  {
   "cell_type": "code",
   "execution_count": 110,
   "id": "T62jsgufl1zc",
   "metadata": {
    "id": "T62jsgufl1zc"
   },
   "outputs": [],
   "source": [
    "import time\n",
    "import kneed\n",
    "import requests\n",
    "import numpy as np\n",
    "import pandas as pd\n",
    "from tqdm import tqdm\n",
    "import seaborn as sns\n",
    "import ipywidgets as widgets \n",
    "from scipy.stats import mstats\n",
    "import matplotlib.pyplot as plt\n",
    "from sklearn.cluster import KMeans\n",
    "from datetime import datetime, timedelta\n",
    "from requests.adapters import HTTPAdapter\n",
    "from requests.exceptions import ConnectionError\n",
    "from requests.packages.urllib3.util.retry import Retry"
   ]
  },
  {
   "cell_type": "markdown",
   "id": "h4XYxAikl1zg",
   "metadata": {
    "id": "h4XYxAikl1zg"
   },
   "source": [
    "<a name=\"application\"></a>\n",
    "<h2><span style=\"color:black\">K-Means Clustering Application: Building a diversified portfolio </span></h2>\n",
    "\n",
    "We are going to use K-Means Clustering to build a diversified portfolio. Two ratios will be used in order to cluster the data: <BR>\n",
    "<ul>\n",
    "    <li> <code>Revenue per share:</code> Amount of sales or revenues generated per average total shares outstanding. (Sales Revenue/Average Total Shares)</li>\n",
    "    <li><code>Return on Assets:</code> Indicator of how profitable company is relative to its assets (Total Income /Total Assets)</li>\n",
    "\n",
    "</ul>\n",
    "The idea is to create clusters with similar characteristics for the components of the S&P 500 using these two factors at the end of the 2021 Q3. From each cluster, we will take the stocks with highest risk adjusted momentum to build our portfolio. <br><br>\n",
    "   After building this portfolio, we will run it for 2022 Q1 and compare it to the return of the S&P 500.<br><br>\n",
    "    \n",
    "Please note that this analysis is done using only two factors which leads to a two dimensional problem. We are using a two dimensional problem to demonstrate the concept and understand the problem. Multiple factors can be used as well. If you want to use multiple factors, you may want to use <a href=\"https://scikit-learn.org/stable/modules/generated/sklearn.decomposition.PCA.html\">Principal Component Analysis</a> to lower the number of dimensions. <br><br>\n",
    "   \n",
    "We will proceed with the following steps: <br><b>K-Means Clustering : </b><br>\n",
    "\n",
    "    1. Get the data: Revenue per share and Return on Assets for the end of 2021 Q1 for members of the S&P 500.\n",
    "    2. Analyze the data, clean it and visualize it.\n",
    "    3. Choose K.\n",
    "    4. Analyze the clustering results.\n",
    "<b>Portfolio Construction : </b><br>\n",
    "    \n",
    "    1. From each cluster, choose the stocks with the highest risk adjusted momentum. \n",
    "    2. Run the portfolio return for 2021-Q2."
   ]
  },
  {
   "cell_type": "markdown",
   "id": "cnKuQ31Xl1zh",
   "metadata": {
    "id": "cnKuQ31Xl1zh"
   },
   "source": [
    "----\n",
    "## K-Means Clustering \n",
    "### <I>1. Get the data: Revenue per share and Return on Assets for members of the S&P 500</I>"
   ]
  },
  {
   "cell_type": "code",
   "execution_count": 111,
   "id": "58qyqCu0kSC5",
   "metadata": {
    "id": "58qyqCu0kSC5"
   },
   "outputs": [],
   "source": [
    "import finviz\n",
    "import numpy as np \n",
    "import pandas as pd "
   ]
  },
  {
   "cell_type": "code",
   "execution_count": null,
   "id": "r32PYdqNW-Fp",
   "metadata": {
    "id": "r32PYdqNW-Fp"
   },
   "outputs": [],
   "source": [
    "# Scrape the S&P 500 tickers from Wikipedia\n",
    "\n",
    "def get_tickers():\n",
    "    wiki_page = requests.get('https://en.wikipedia.org/wiki/List_of_S%26P_500_companies').text\n",
    "    sp_data = pd.read_html(wiki_page)\n",
    "    ticker_df = sp_data[0]\n",
    "    ticker_options = ticker_df['Symbol']\n",
    "    return ticker_options"
   ]
  },
  {
   "cell_type": "code",
   "execution_count": null,
   "id": "bicEkZ2UWxrn",
   "metadata": {
    "colab": {
     "base_uri": "https://localhost:8080/"
    },
    "id": "bicEkZ2UWxrn",
    "outputId": "31268703-626c-4fe8-b632-f486b2c5b7d1"
   },
   "outputs": [
    {
     "name": "stdout",
     "output_type": "stream",
     "text": [
      "505\n"
     ]
    }
   ],
   "source": [
    "# Run the ticker scrape function\n",
    "# Let's convert the get_tickers() output to a list and \n",
    "\n",
    "stock_tickers = get_tickers()\n",
    "stock_tickers = stock_tickers.to_list()\n",
    "for ticker in range(len(stock_tickers)):\n",
    "    stock_tickers[ticker] = stock_tickers[ticker].upper().replace(\".\", \"-\")\n",
    "\n",
    "print (len(stock_tickers))\n",
    "# stock_tickers"
   ]
  },
  {
   "cell_type": "code",
   "execution_count": null,
   "id": "VIvjHDmgW3WE",
   "metadata": {
    "colab": {
     "base_uri": "https://localhost:8080/"
    },
    "id": "VIvjHDmgW3WE",
    "outputId": "90855b4d-43b1-416c-d4d5-227c758bf5c3"
   },
   "outputs": [
    {
     "data": {
      "text/plain": [
       "['MMM', 'AOS', 'ABT', 'ABBV', 'ABMD', 'ACN', 'ATVI', 'ADM', 'ADBE', 'ADP']"
      ]
     },
     "execution_count": 6,
     "metadata": {},
     "output_type": "execute_result"
    }
   ],
   "source": [
    "stock_tickers[0:10]"
   ]
  },
  {
   "cell_type": "code",
   "execution_count": null,
   "id": "NKf2TYSxl1zh",
   "metadata": {
    "id": "NKf2TYSxl1zh"
   },
   "outputs": [],
   "source": [
    "# Get information for the stocks and put in dataframe\n",
    "def get_fundamental_data(df):\n",
    "    for symbol in df.index:\n",
    "        try:\n",
    "            stock_info = finviz.get_stock(symbol)\n",
    "            for m in df.columns:                \n",
    "                df.loc[symbol,m] = stock_info[m]               \n",
    "        except:\n",
    "            print (symbol, 'not found')\n",
    "    return df"
   ]
  },
  {
   "cell_type": "code",
   "execution_count": null,
   "id": "zuKEYf9-j80v",
   "metadata": {
    "id": "zuKEYf9-j80v"
   },
   "outputs": [],
   "source": [
    "# Define the list of stocks to get information from\n",
    "stock_symbol_list = ['FTI','VTRS','LUMN','AMCR','HBAN','HPE','UA','AAL','F','UAA','KMI','NLSN','HST','NCLH','CCL','PBCT','IVZ','AES','NWSA','NWS','RF','MRO','NWL','KIM','KEY','CTRA','T','PPL','CNP','DISCK','DISCA','BKR','BEN','NI','NLOK','PEAK','DXC','DISH','HAL','WMB','PARA','ROL','JNPR','HWM','CSX','HPQ','CAG','TWTR','IPG','NRG','SLB','APA','OGN','DAL','FOX','GLW','WY','BWA','KHC','TPR','SYF','LVS','IP','FE','FOXA','UAL','LUV','VNO','MGM','BAC','EXC','BSX','WRK','CARR','FITB','GM','CPB','WBA','PFE','LKQ','CMCSA','INTC','OXY','CEG','FCX','KR','CFG','IR','WDC','HRL','IRM','PHM','BK','WFC','TAP','PENN','CTVA','MO','BBWI','FAST','MOS','CAH','ALK','DRE','VTR','VZ','USB','UDR','XRAY','EBAY','MAS','CSCO','VFC','PNR','DOW','LNT','AIG','TFC','DVN','C','AFL','L','GILD','EVRG','KO','LNC','JCI','OKE','FTV','EIX','SO','K','CMS','LW','MET','PEG','TJX','MDLZ','ZION','BF-B','REG','O','SEE','HIG','XEL','AOS','GIS','PFG','BRO','MCHP','BMY','NEM','TRMB','PNW','INCY','TXT','HOLX','CDAY','RCL','APH','MPC','DD','CL','ORCL','MRK','SCHW','NTAP','OTIS','NEE','ADM','XOM','D','STT','VLO','ES','ATVI','WYNN','CZR','PSX','OMC','CF','CNC','WELL','MNST','BAX','FBHS','EQR','AEE','ED','MU','SYY','CTSH','HSIC','DHI','XYL','BLL','MS','CMA','WAB','WRB','PCAR','WEC','EMR','PVH','ROST','SBUX','AEP','LEN','LYB','GE','CERN','FIS','HAS','TSN','CBRE','COP','MKC','GL','BBY','CHD','FISV','DUK','HES','PM','STX','EXPD','CVS','RJF','CTXS','CTLT','RTX','MDT','PGR','CHRW','ETR','KMX','NTRS','PRU','LDOS','PYPL','INFO','PWR','AKAM','ATO','GRMN','DVA','PTC','MTCH','EW','DFS','EMN','RHI','TER','AMD','EOG','ALLE','FMC','FRT','LYV','CBOE','ABT','PAYX','ANET','APTV','ALL','CINF','DTE','IPGP','YUM','BXP','GPC','RSG','CPRT','IBM','J','TMUS','ZBH','RL','PPG','SJM','AME','ICE','KMB','EA','IFF','NUE','AMAT','GPN','DGX','A','NKE','QRVO','SWKS','JPM','DLR','FANG','SPG','CE','TEL','WMT','MHK','TROW','DRI','DLTR','ABC','COF','HLT','UHS','PKG','SRE','DIS','CLX','MMM','ETN','BR','PLD','WM','ABBV','CVX','AWK','TT','DOV','MRNA','CDNS','PG','KEYS','MMC','AJG','ETSY','SWK','ADI','TTWO','PEP','AAPL','JNJ','FRC','MAR','AIZ','TXN','QCOM','TRV','CCI','CDW','AVY','MTB','ENPH','NDAQ','ECL','VMC','PKI','JKHY','VRSK','AXP','NXPI','CAT','HON','ALB','PNC','EXPE','IEX','ARE','EXR','CMI','ZTS','BA','FFIV','CB','JBHT','AAP','WHR','DG','SNA','ADP','HII','MAA','UPS','TSCO','FB','HSY','V','ITW','BIIB','CRM','FDX','STZ','MSI','VRSN','ADSK','EFX','TGT','WTW','NDSN','EPAM','LOW','AMGN','FLT','AMT','IQV','APD','VRTX','NVDA','CME','GD','AVB','CI','STE','PXD','MCD','UNP','LLY','RMD','HCA','NSC','SHW','LHX','SYK','ROK','LH','BDX','MCK','DHR','AMP','IT','LIN','RE','EL','PH','CRL','AON','ISRG','MSFT','SNPS','ODFL','ACN','SBNY','URI','ABMD','WAT','BRK-B','ESS','SBAC','GNRC','HD','SEDG','ANSS','MCO','GS','ILMN','TFX','PAYC','KLAC','FTNT','MA','PSA','DE','MLM','ULTA','CTAS','WST','MKTX','NFLX','SPGI','ZBRA','COO','DXCM','FDS','TECH','TYL','TDY','HUM','DPZ','ANTM','ROP','LMT','NOC','POOL','GWW','ADBE','UNH','INTU','ALGN','MSCI','COST','IDXX','LRCX','TMO','SIVB','AVGO','NOW','CHTR','REGN','BIO','ORLY','TDG','EQIX','BLK','TSLA','MTD','CMG','AZO','BKNG','GOOGL','GOOG','AMZN','NVR']"
   ]
  },
  {
   "cell_type": "code",
   "execution_count": null,
   "id": "a77am4IQkEAc",
   "metadata": {
    "id": "a77am4IQkEAc"
   },
   "outputs": [],
   "source": [
    "df  = pd.DataFrame(index=stock_symbol_list,columns=['Company', 'Sector', 'ROA', 'EPS past 5Y'])\n",
    "data  = get_fundamental_data(df)\n",
    "data.columns =['Company', 'Sector', 'Return on Assets', 'Rev per share']\n",
    "data = data[[\"Return on Assets\", \"Rev per share\"]]"
   ]
  },
  {
   "cell_type": "code",
   "execution_count": null,
   "id": "knG5_oV5l1zj",
   "metadata": {
    "colab": {
     "base_uri": "https://localhost:8080/"
    },
    "id": "knG5_oV5l1zj",
    "outputId": "08383829-11c3-46ee-e232-49621802f5e6"
   },
   "outputs": [
    {
     "name": "stderr",
     "output_type": "stream",
     "text": [
      "/usr/local/lib/python3.7/dist-packages/pandas/core/frame.py:3641: SettingWithCopyWarning: \n",
      "A value is trying to be set on a copy of a slice from a DataFrame.\n",
      "Try using .loc[row_indexer,col_indexer] = value instead\n",
      "\n",
      "See the caveats in the documentation: https://pandas.pydata.org/pandas-docs/stable/user_guide/indexing.html#returning-a-view-versus-a-copy\n",
      "  self[k1] = value[k2]\n"
     ]
    }
   ],
   "source": [
    "# Remove any % characters, change string values to numeric values\n",
    "data[[\"Return on Assets\"]] = data[[\"Return on Assets\"]].apply(lambda x: x.str.replace('[%]','', regex=True))\n",
    "data[[\"Rev per share\"]] = data[[\"Rev per share\"]].apply(lambda x: x.str.replace('[%]','', regex=True))\n",
    "data.index.name = 'ID'"
   ]
  },
  {
   "cell_type": "code",
   "execution_count": null,
   "id": "umxf-0pOz7QK",
   "metadata": {
    "colab": {
     "base_uri": "https://localhost:8080/",
     "height": 455
    },
    "id": "umxf-0pOz7QK",
    "outputId": "82093a70-0ead-4584-c129-1ecbeb585b5f"
   },
   "outputs": [
    {
     "data": {
      "text/html": [
       "\n",
       "  <div id=\"df-59a919ed-d152-4e71-be15-b5835920751e\">\n",
       "    <div class=\"colab-df-container\">\n",
       "      <div>\n",
       "<style scoped>\n",
       "    .dataframe tbody tr th:only-of-type {\n",
       "        vertical-align: middle;\n",
       "    }\n",
       "\n",
       "    .dataframe tbody tr th {\n",
       "        vertical-align: top;\n",
       "    }\n",
       "\n",
       "    .dataframe thead th {\n",
       "        text-align: right;\n",
       "    }\n",
       "</style>\n",
       "<table border=\"1\" class=\"dataframe\">\n",
       "  <thead>\n",
       "    <tr style=\"text-align: right;\">\n",
       "      <th></th>\n",
       "      <th>Return on Assets</th>\n",
       "      <th>Rev per share</th>\n",
       "    </tr>\n",
       "    <tr>\n",
       "      <th>ID</th>\n",
       "      <th></th>\n",
       "      <th></th>\n",
       "    </tr>\n",
       "  </thead>\n",
       "  <tbody>\n",
       "    <tr>\n",
       "      <th>FTI</th>\n",
       "      <td>1.20</td>\n",
       "      <td>-11.63</td>\n",
       "    </tr>\n",
       "    <tr>\n",
       "      <th>VTRS</th>\n",
       "      <td>-3.30</td>\n",
       "      <td>-21.60</td>\n",
       "    </tr>\n",
       "    <tr>\n",
       "      <th>LUMN</th>\n",
       "      <td>3.50</td>\n",
       "      <td>10.50</td>\n",
       "    </tr>\n",
       "    <tr>\n",
       "      <th>AMCR</th>\n",
       "      <td>5.60</td>\n",
       "      <td>23.80</td>\n",
       "    </tr>\n",
       "    <tr>\n",
       "      <th>HBAN</th>\n",
       "      <td>0.70</td>\n",
       "      <td>5.00</td>\n",
       "    </tr>\n",
       "    <tr>\n",
       "      <th>...</th>\n",
       "      <td>...</td>\n",
       "      <td>...</td>\n",
       "    </tr>\n",
       "    <tr>\n",
       "      <th>BKNG</th>\n",
       "      <td>4.90</td>\n",
       "      <td>-8.00</td>\n",
       "    </tr>\n",
       "    <tr>\n",
       "      <th>GOOGL</th>\n",
       "      <td>22.20</td>\n",
       "      <td>32.10</td>\n",
       "    </tr>\n",
       "    <tr>\n",
       "      <th>GOOG</th>\n",
       "      <td>-</td>\n",
       "      <td>-</td>\n",
       "    </tr>\n",
       "    <tr>\n",
       "      <th>AMZN</th>\n",
       "      <td>9.00</td>\n",
       "      <td>67.60</td>\n",
       "    </tr>\n",
       "    <tr>\n",
       "      <th>NVR</th>\n",
       "      <td>21.20</td>\n",
       "      <td>25.30</td>\n",
       "    </tr>\n",
       "  </tbody>\n",
       "</table>\n",
       "<p>505 rows × 2 columns</p>\n",
       "</div>\n",
       "      <button class=\"colab-df-convert\" onclick=\"convertToInteractive('df-59a919ed-d152-4e71-be15-b5835920751e')\"\n",
       "              title=\"Convert this dataframe to an interactive table.\"\n",
       "              style=\"display:none;\">\n",
       "        \n",
       "  <svg xmlns=\"http://www.w3.org/2000/svg\" height=\"24px\"viewBox=\"0 0 24 24\"\n",
       "       width=\"24px\">\n",
       "    <path d=\"M0 0h24v24H0V0z\" fill=\"none\"/>\n",
       "    <path d=\"M18.56 5.44l.94 2.06.94-2.06 2.06-.94-2.06-.94-.94-2.06-.94 2.06-2.06.94zm-11 1L8.5 8.5l.94-2.06 2.06-.94-2.06-.94L8.5 2.5l-.94 2.06-2.06.94zm10 10l.94 2.06.94-2.06 2.06-.94-2.06-.94-.94-2.06-.94 2.06-2.06.94z\"/><path d=\"M17.41 7.96l-1.37-1.37c-.4-.4-.92-.59-1.43-.59-.52 0-1.04.2-1.43.59L10.3 9.45l-7.72 7.72c-.78.78-.78 2.05 0 2.83L4 21.41c.39.39.9.59 1.41.59.51 0 1.02-.2 1.41-.59l7.78-7.78 2.81-2.81c.8-.78.8-2.07 0-2.86zM5.41 20L4 18.59l7.72-7.72 1.47 1.35L5.41 20z\"/>\n",
       "  </svg>\n",
       "      </button>\n",
       "      \n",
       "  <style>\n",
       "    .colab-df-container {\n",
       "      display:flex;\n",
       "      flex-wrap:wrap;\n",
       "      gap: 12px;\n",
       "    }\n",
       "\n",
       "    .colab-df-convert {\n",
       "      background-color: #E8F0FE;\n",
       "      border: none;\n",
       "      border-radius: 50%;\n",
       "      cursor: pointer;\n",
       "      display: none;\n",
       "      fill: #1967D2;\n",
       "      height: 32px;\n",
       "      padding: 0 0 0 0;\n",
       "      width: 32px;\n",
       "    }\n",
       "\n",
       "    .colab-df-convert:hover {\n",
       "      background-color: #E2EBFA;\n",
       "      box-shadow: 0px 1px 2px rgba(60, 64, 67, 0.3), 0px 1px 3px 1px rgba(60, 64, 67, 0.15);\n",
       "      fill: #174EA6;\n",
       "    }\n",
       "\n",
       "    [theme=dark] .colab-df-convert {\n",
       "      background-color: #3B4455;\n",
       "      fill: #D2E3FC;\n",
       "    }\n",
       "\n",
       "    [theme=dark] .colab-df-convert:hover {\n",
       "      background-color: #434B5C;\n",
       "      box-shadow: 0px 1px 3px 1px rgba(0, 0, 0, 0.15);\n",
       "      filter: drop-shadow(0px 1px 2px rgba(0, 0, 0, 0.3));\n",
       "      fill: #FFFFFF;\n",
       "    }\n",
       "  </style>\n",
       "\n",
       "      <script>\n",
       "        const buttonEl =\n",
       "          document.querySelector('#df-59a919ed-d152-4e71-be15-b5835920751e button.colab-df-convert');\n",
       "        buttonEl.style.display =\n",
       "          google.colab.kernel.accessAllowed ? 'block' : 'none';\n",
       "\n",
       "        async function convertToInteractive(key) {\n",
       "          const element = document.querySelector('#df-59a919ed-d152-4e71-be15-b5835920751e');\n",
       "          const dataTable =\n",
       "            await google.colab.kernel.invokeFunction('convertToInteractive',\n",
       "                                                     [key], {});\n",
       "          if (!dataTable) return;\n",
       "\n",
       "          const docLinkHtml = 'Like what you see? Visit the ' +\n",
       "            '<a target=\"_blank\" href=https://colab.research.google.com/notebooks/data_table.ipynb>data table notebook</a>'\n",
       "            + ' to learn more about interactive tables.';\n",
       "          element.innerHTML = '';\n",
       "          dataTable['output_type'] = 'display_data';\n",
       "          await google.colab.output.renderOutput(dataTable, element);\n",
       "          const docLink = document.createElement('div');\n",
       "          docLink.innerHTML = docLinkHtml;\n",
       "          element.appendChild(docLink);\n",
       "        }\n",
       "      </script>\n",
       "    </div>\n",
       "  </div>\n",
       "  "
      ],
      "text/plain": [
       "      Return on Assets Rev per share\n",
       "ID                                  \n",
       "FTI               1.20        -11.63\n",
       "VTRS             -3.30        -21.60\n",
       "LUMN              3.50         10.50\n",
       "AMCR              5.60         23.80\n",
       "HBAN              0.70          5.00\n",
       "...                ...           ...\n",
       "BKNG              4.90         -8.00\n",
       "GOOGL            22.20         32.10\n",
       "GOOG                 -             -\n",
       "AMZN              9.00         67.60\n",
       "NVR              21.20         25.30\n",
       "\n",
       "[505 rows x 2 columns]"
      ]
     },
     "execution_count": 11,
     "metadata": {},
     "output_type": "execute_result"
    }
   ],
   "source": [
    "data"
   ]
  },
  {
   "cell_type": "code",
   "execution_count": null,
   "id": "eP2CE6xjnBRX",
   "metadata": {
    "colab": {
     "base_uri": "https://localhost:8080/",
     "height": 455
    },
    "id": "eP2CE6xjnBRX",
    "outputId": "bc715553-c826-46ac-a234-a4dc96b3f2d6"
   },
   "outputs": [
    {
     "data": {
      "text/html": [
       "\n",
       "  <div id=\"df-64056a4d-d9f7-4f8d-a3ed-69e72519f784\">\n",
       "    <div class=\"colab-df-container\">\n",
       "      <div>\n",
       "<style scoped>\n",
       "    .dataframe tbody tr th:only-of-type {\n",
       "        vertical-align: middle;\n",
       "    }\n",
       "\n",
       "    .dataframe tbody tr th {\n",
       "        vertical-align: top;\n",
       "    }\n",
       "\n",
       "    .dataframe thead th {\n",
       "        text-align: right;\n",
       "    }\n",
       "</style>\n",
       "<table border=\"1\" class=\"dataframe\">\n",
       "  <thead>\n",
       "    <tr style=\"text-align: right;\">\n",
       "      <th></th>\n",
       "      <th>Return on Assets</th>\n",
       "      <th>Rev per share</th>\n",
       "    </tr>\n",
       "    <tr>\n",
       "      <th>ID</th>\n",
       "      <th></th>\n",
       "      <th></th>\n",
       "    </tr>\n",
       "  </thead>\n",
       "  <tbody>\n",
       "    <tr>\n",
       "      <th>FTI</th>\n",
       "      <td>0.012</td>\n",
       "      <td>-11.63</td>\n",
       "    </tr>\n",
       "    <tr>\n",
       "      <th>VTRS</th>\n",
       "      <td>-0.033</td>\n",
       "      <td>-21.60</td>\n",
       "    </tr>\n",
       "    <tr>\n",
       "      <th>LUMN</th>\n",
       "      <td>0.035</td>\n",
       "      <td>10.50</td>\n",
       "    </tr>\n",
       "    <tr>\n",
       "      <th>AMCR</th>\n",
       "      <td>0.056</td>\n",
       "      <td>23.80</td>\n",
       "    </tr>\n",
       "    <tr>\n",
       "      <th>HBAN</th>\n",
       "      <td>0.007</td>\n",
       "      <td>5.00</td>\n",
       "    </tr>\n",
       "    <tr>\n",
       "      <th>...</th>\n",
       "      <td>...</td>\n",
       "      <td>...</td>\n",
       "    </tr>\n",
       "    <tr>\n",
       "      <th>AZO</th>\n",
       "      <td>0.159</td>\n",
       "      <td>18.50</td>\n",
       "    </tr>\n",
       "    <tr>\n",
       "      <th>BKNG</th>\n",
       "      <td>0.049</td>\n",
       "      <td>-8.00</td>\n",
       "    </tr>\n",
       "    <tr>\n",
       "      <th>GOOGL</th>\n",
       "      <td>0.222</td>\n",
       "      <td>32.10</td>\n",
       "    </tr>\n",
       "    <tr>\n",
       "      <th>AMZN</th>\n",
       "      <td>0.090</td>\n",
       "      <td>67.60</td>\n",
       "    </tr>\n",
       "    <tr>\n",
       "      <th>NVR</th>\n",
       "      <td>0.212</td>\n",
       "      <td>25.30</td>\n",
       "    </tr>\n",
       "  </tbody>\n",
       "</table>\n",
       "<p>490 rows × 2 columns</p>\n",
       "</div>\n",
       "      <button class=\"colab-df-convert\" onclick=\"convertToInteractive('df-64056a4d-d9f7-4f8d-a3ed-69e72519f784')\"\n",
       "              title=\"Convert this dataframe to an interactive table.\"\n",
       "              style=\"display:none;\">\n",
       "        \n",
       "  <svg xmlns=\"http://www.w3.org/2000/svg\" height=\"24px\"viewBox=\"0 0 24 24\"\n",
       "       width=\"24px\">\n",
       "    <path d=\"M0 0h24v24H0V0z\" fill=\"none\"/>\n",
       "    <path d=\"M18.56 5.44l.94 2.06.94-2.06 2.06-.94-2.06-.94-.94-2.06-.94 2.06-2.06.94zm-11 1L8.5 8.5l.94-2.06 2.06-.94-2.06-.94L8.5 2.5l-.94 2.06-2.06.94zm10 10l.94 2.06.94-2.06 2.06-.94-2.06-.94-.94-2.06-.94 2.06-2.06.94z\"/><path d=\"M17.41 7.96l-1.37-1.37c-.4-.4-.92-.59-1.43-.59-.52 0-1.04.2-1.43.59L10.3 9.45l-7.72 7.72c-.78.78-.78 2.05 0 2.83L4 21.41c.39.39.9.59 1.41.59.51 0 1.02-.2 1.41-.59l7.78-7.78 2.81-2.81c.8-.78.8-2.07 0-2.86zM5.41 20L4 18.59l7.72-7.72 1.47 1.35L5.41 20z\"/>\n",
       "  </svg>\n",
       "      </button>\n",
       "      \n",
       "  <style>\n",
       "    .colab-df-container {\n",
       "      display:flex;\n",
       "      flex-wrap:wrap;\n",
       "      gap: 12px;\n",
       "    }\n",
       "\n",
       "    .colab-df-convert {\n",
       "      background-color: #E8F0FE;\n",
       "      border: none;\n",
       "      border-radius: 50%;\n",
       "      cursor: pointer;\n",
       "      display: none;\n",
       "      fill: #1967D2;\n",
       "      height: 32px;\n",
       "      padding: 0 0 0 0;\n",
       "      width: 32px;\n",
       "    }\n",
       "\n",
       "    .colab-df-convert:hover {\n",
       "      background-color: #E2EBFA;\n",
       "      box-shadow: 0px 1px 2px rgba(60, 64, 67, 0.3), 0px 1px 3px 1px rgba(60, 64, 67, 0.15);\n",
       "      fill: #174EA6;\n",
       "    }\n",
       "\n",
       "    [theme=dark] .colab-df-convert {\n",
       "      background-color: #3B4455;\n",
       "      fill: #D2E3FC;\n",
       "    }\n",
       "\n",
       "    [theme=dark] .colab-df-convert:hover {\n",
       "      background-color: #434B5C;\n",
       "      box-shadow: 0px 1px 3px 1px rgba(0, 0, 0, 0.15);\n",
       "      filter: drop-shadow(0px 1px 2px rgba(0, 0, 0, 0.3));\n",
       "      fill: #FFFFFF;\n",
       "    }\n",
       "  </style>\n",
       "\n",
       "      <script>\n",
       "        const buttonEl =\n",
       "          document.querySelector('#df-64056a4d-d9f7-4f8d-a3ed-69e72519f784 button.colab-df-convert');\n",
       "        buttonEl.style.display =\n",
       "          google.colab.kernel.accessAllowed ? 'block' : 'none';\n",
       "\n",
       "        async function convertToInteractive(key) {\n",
       "          const element = document.querySelector('#df-64056a4d-d9f7-4f8d-a3ed-69e72519f784');\n",
       "          const dataTable =\n",
       "            await google.colab.kernel.invokeFunction('convertToInteractive',\n",
       "                                                     [key], {});\n",
       "          if (!dataTable) return;\n",
       "\n",
       "          const docLinkHtml = 'Like what you see? Visit the ' +\n",
       "            '<a target=\"_blank\" href=https://colab.research.google.com/notebooks/data_table.ipynb>data table notebook</a>'\n",
       "            + ' to learn more about interactive tables.';\n",
       "          element.innerHTML = '';\n",
       "          dataTable['output_type'] = 'display_data';\n",
       "          await google.colab.output.renderOutput(dataTable, element);\n",
       "          const docLink = document.createElement('div');\n",
       "          docLink.innerHTML = docLinkHtml;\n",
       "          element.appendChild(docLink);\n",
       "        }\n",
       "      </script>\n",
       "    </div>\n",
       "  </div>\n",
       "  "
      ],
      "text/plain": [
       "       Return on Assets  Rev per share\n",
       "ID                                    \n",
       "FTI               0.012         -11.63\n",
       "VTRS             -0.033         -21.60\n",
       "LUMN              0.035          10.50\n",
       "AMCR              0.056          23.80\n",
       "HBAN              0.007           5.00\n",
       "...                 ...            ...\n",
       "AZO               0.159          18.50\n",
       "BKNG              0.049          -8.00\n",
       "GOOGL             0.222          32.10\n",
       "AMZN              0.090          67.60\n",
       "NVR               0.212          25.30\n",
       "\n",
       "[490 rows x 2 columns]"
      ]
     },
     "execution_count": 12,
     "metadata": {},
     "output_type": "execute_result"
    }
   ],
   "source": [
    "data.to_csv(\"stock.csv\")\n",
    "data = pd.read_csv('revised stock list.csv') \n",
    "data[[\"Return on Assets\", \n",
    "      \"Rev per share\"]] = data[[\"Return on Assets\", \n",
    "                                   \"Rev per share\"]].apply(pd.to_numeric)\n",
    "data.set_index(\"ID\", inplace = True)\n",
    "data"
   ]
  },
  {
   "cell_type": "markdown",
   "id": "Zq51lJS0l1zj",
   "metadata": {
    "id": "Zq51lJS0l1zj"
   },
   "source": [
    "### <I>2. Analyze the data, clean it and visualize it</I>"
   ]
  },
  {
   "cell_type": "code",
   "execution_count": null,
   "id": "pQCeW5Yal1zj",
   "metadata": {
    "colab": {
     "base_uri": "https://localhost:8080/"
    },
    "id": "pQCeW5Yal1zj",
    "outputId": "c45f8581-a577-4072-e272-beef475ea7fb"
   },
   "outputs": [
    {
     "data": {
      "text/plain": [
       "(490, 2)"
      ]
     },
     "execution_count": 13,
     "metadata": {},
     "output_type": "execute_result"
    }
   ],
   "source": [
    "data.shape"
   ]
  },
  {
   "cell_type": "code",
   "execution_count": null,
   "id": "zdaso-lKl1zk",
   "metadata": {
    "colab": {
     "base_uri": "https://localhost:8080/",
     "height": 300
    },
    "id": "zdaso-lKl1zk",
    "outputId": "100aba0b-e66b-4e31-a164-1ee2f8001e9d"
   },
   "outputs": [
    {
     "data": {
      "text/html": [
       "\n",
       "  <div id=\"df-b71471a7-d54a-4ed3-a10c-daef81ca335b\">\n",
       "    <div class=\"colab-df-container\">\n",
       "      <div>\n",
       "<style scoped>\n",
       "    .dataframe tbody tr th:only-of-type {\n",
       "        vertical-align: middle;\n",
       "    }\n",
       "\n",
       "    .dataframe tbody tr th {\n",
       "        vertical-align: top;\n",
       "    }\n",
       "\n",
       "    .dataframe thead th {\n",
       "        text-align: right;\n",
       "    }\n",
       "</style>\n",
       "<table border=\"1\" class=\"dataframe\">\n",
       "  <thead>\n",
       "    <tr style=\"text-align: right;\">\n",
       "      <th></th>\n",
       "      <th>Return on Assets</th>\n",
       "      <th>Rev per share</th>\n",
       "    </tr>\n",
       "  </thead>\n",
       "  <tbody>\n",
       "    <tr>\n",
       "      <th>count</th>\n",
       "      <td>490.000000</td>\n",
       "      <td>490.000000</td>\n",
       "    </tr>\n",
       "    <tr>\n",
       "      <th>mean</th>\n",
       "      <td>0.078880</td>\n",
       "      <td>14.465776</td>\n",
       "    </tr>\n",
       "    <tr>\n",
       "      <th>std</th>\n",
       "      <td>0.076683</td>\n",
       "      <td>26.224920</td>\n",
       "    </tr>\n",
       "    <tr>\n",
       "      <th>min</th>\n",
       "      <td>-0.188000</td>\n",
       "      <td>-67.700000</td>\n",
       "    </tr>\n",
       "    <tr>\n",
       "      <th>25%</th>\n",
       "      <td>0.029000</td>\n",
       "      <td>3.500000</td>\n",
       "    </tr>\n",
       "    <tr>\n",
       "      <th>50%</th>\n",
       "      <td>0.063000</td>\n",
       "      <td>12.550000</td>\n",
       "    </tr>\n",
       "    <tr>\n",
       "      <th>75%</th>\n",
       "      <td>0.112500</td>\n",
       "      <td>23.775000</td>\n",
       "    </tr>\n",
       "    <tr>\n",
       "      <th>max</th>\n",
       "      <td>0.515000</td>\n",
       "      <td>176.000000</td>\n",
       "    </tr>\n",
       "  </tbody>\n",
       "</table>\n",
       "</div>\n",
       "      <button class=\"colab-df-convert\" onclick=\"convertToInteractive('df-b71471a7-d54a-4ed3-a10c-daef81ca335b')\"\n",
       "              title=\"Convert this dataframe to an interactive table.\"\n",
       "              style=\"display:none;\">\n",
       "        \n",
       "  <svg xmlns=\"http://www.w3.org/2000/svg\" height=\"24px\"viewBox=\"0 0 24 24\"\n",
       "       width=\"24px\">\n",
       "    <path d=\"M0 0h24v24H0V0z\" fill=\"none\"/>\n",
       "    <path d=\"M18.56 5.44l.94 2.06.94-2.06 2.06-.94-2.06-.94-.94-2.06-.94 2.06-2.06.94zm-11 1L8.5 8.5l.94-2.06 2.06-.94-2.06-.94L8.5 2.5l-.94 2.06-2.06.94zm10 10l.94 2.06.94-2.06 2.06-.94-2.06-.94-.94-2.06-.94 2.06-2.06.94z\"/><path d=\"M17.41 7.96l-1.37-1.37c-.4-.4-.92-.59-1.43-.59-.52 0-1.04.2-1.43.59L10.3 9.45l-7.72 7.72c-.78.78-.78 2.05 0 2.83L4 21.41c.39.39.9.59 1.41.59.51 0 1.02-.2 1.41-.59l7.78-7.78 2.81-2.81c.8-.78.8-2.07 0-2.86zM5.41 20L4 18.59l7.72-7.72 1.47 1.35L5.41 20z\"/>\n",
       "  </svg>\n",
       "      </button>\n",
       "      \n",
       "  <style>\n",
       "    .colab-df-container {\n",
       "      display:flex;\n",
       "      flex-wrap:wrap;\n",
       "      gap: 12px;\n",
       "    }\n",
       "\n",
       "    .colab-df-convert {\n",
       "      background-color: #E8F0FE;\n",
       "      border: none;\n",
       "      border-radius: 50%;\n",
       "      cursor: pointer;\n",
       "      display: none;\n",
       "      fill: #1967D2;\n",
       "      height: 32px;\n",
       "      padding: 0 0 0 0;\n",
       "      width: 32px;\n",
       "    }\n",
       "\n",
       "    .colab-df-convert:hover {\n",
       "      background-color: #E2EBFA;\n",
       "      box-shadow: 0px 1px 2px rgba(60, 64, 67, 0.3), 0px 1px 3px 1px rgba(60, 64, 67, 0.15);\n",
       "      fill: #174EA6;\n",
       "    }\n",
       "\n",
       "    [theme=dark] .colab-df-convert {\n",
       "      background-color: #3B4455;\n",
       "      fill: #D2E3FC;\n",
       "    }\n",
       "\n",
       "    [theme=dark] .colab-df-convert:hover {\n",
       "      background-color: #434B5C;\n",
       "      box-shadow: 0px 1px 3px 1px rgba(0, 0, 0, 0.15);\n",
       "      filter: drop-shadow(0px 1px 2px rgba(0, 0, 0, 0.3));\n",
       "      fill: #FFFFFF;\n",
       "    }\n",
       "  </style>\n",
       "\n",
       "      <script>\n",
       "        const buttonEl =\n",
       "          document.querySelector('#df-b71471a7-d54a-4ed3-a10c-daef81ca335b button.colab-df-convert');\n",
       "        buttonEl.style.display =\n",
       "          google.colab.kernel.accessAllowed ? 'block' : 'none';\n",
       "\n",
       "        async function convertToInteractive(key) {\n",
       "          const element = document.querySelector('#df-b71471a7-d54a-4ed3-a10c-daef81ca335b');\n",
       "          const dataTable =\n",
       "            await google.colab.kernel.invokeFunction('convertToInteractive',\n",
       "                                                     [key], {});\n",
       "          if (!dataTable) return;\n",
       "\n",
       "          const docLinkHtml = 'Like what you see? Visit the ' +\n",
       "            '<a target=\"_blank\" href=https://colab.research.google.com/notebooks/data_table.ipynb>data table notebook</a>'\n",
       "            + ' to learn more about interactive tables.';\n",
       "          element.innerHTML = '';\n",
       "          dataTable['output_type'] = 'display_data';\n",
       "          await google.colab.output.renderOutput(dataTable, element);\n",
       "          const docLink = document.createElement('div');\n",
       "          docLink.innerHTML = docLinkHtml;\n",
       "          element.appendChild(docLink);\n",
       "        }\n",
       "      </script>\n",
       "    </div>\n",
       "  </div>\n",
       "  "
      ],
      "text/plain": [
       "       Return on Assets  Rev per share\n",
       "count        490.000000     490.000000\n",
       "mean           0.078880      14.465776\n",
       "std            0.076683      26.224920\n",
       "min           -0.188000     -67.700000\n",
       "25%            0.029000       3.500000\n",
       "50%            0.063000      12.550000\n",
       "75%            0.112500      23.775000\n",
       "max            0.515000     176.000000"
      ]
     },
     "execution_count": 14,
     "metadata": {},
     "output_type": "execute_result"
    }
   ],
   "source": [
    "data.describe()"
   ]
  },
  {
   "cell_type": "code",
   "execution_count": null,
   "id": "AUSOliRcl1zk",
   "metadata": {
    "id": "AUSOliRcl1zk"
   },
   "outputs": [],
   "source": [
    "# Make a copy of the original data before starting our data preprocessing\n",
    "original_data=data.copy()\n",
    "# Dropna value \n",
    "data=data.dropna()"
   ]
  },
  {
   "cell_type": "code",
   "execution_count": null,
   "id": "nlMQq8ZZl1zl",
   "metadata": {
    "colab": {
     "base_uri": "https://localhost:8080/",
     "height": 312
    },
    "id": "nlMQq8ZZl1zl",
    "outputId": "20dd44b0-8e32-4edc-bca5-9ffea3243ca3"
   },
   "outputs": [
    {
     "data": {
      "text/plain": [
       "<matplotlib.collections.PathCollection at 0x7f052395bf10>"
      ]
     },
     "execution_count": 18,
     "metadata": {},
     "output_type": "execute_result"
    },
    {
     "data": {
      "image/png": "[encoded data removed]",
      "text/plain": [
       "<Figure size 432x288 with 1 Axes>"
      ]
     },
     "metadata": {},
     "output_type": "display_data"
    }
   ],
   "source": [
    "# Visualize scatterplot\n",
    "plt.style.use(\"dark_background\")\n",
    "g = sns.scatterplot(x='Return on Assets', y='Rev per share', data=data)\n",
    "plt.ylim([0,200])\n",
    "plt.title(\"Original Data\")\n",
    "\n",
    "# Some random point we want to classify\n",
    "plt.scatter(0.05, 50, marker='o', s=80, color='red')"
   ]
  },
  {
   "cell_type": "code",
   "execution_count": null,
   "id": "QudS-rZal1zl",
   "metadata": {
    "colab": {
     "base_uri": "https://localhost:8080/",
     "height": 238
    },
    "id": "QudS-rZal1zl",
    "outputId": "fdc642f7-a6bc-45a3-870f-2e4cd79161a0"
   },
   "outputs": [
    {
     "data": {
      "text/html": [
       "\n",
       "  <div id=\"df-27c454a9-53a2-4260-b6f5-bfb73c5c6692\">\n",
       "    <div class=\"colab-df-container\">\n",
       "      <div>\n",
       "<style scoped>\n",
       "    .dataframe tbody tr th:only-of-type {\n",
       "        vertical-align: middle;\n",
       "    }\n",
       "\n",
       "    .dataframe tbody tr th {\n",
       "        vertical-align: top;\n",
       "    }\n",
       "\n",
       "    .dataframe thead th {\n",
       "        text-align: right;\n",
       "    }\n",
       "</style>\n",
       "<table border=\"1\" class=\"dataframe\">\n",
       "  <thead>\n",
       "    <tr style=\"text-align: right;\">\n",
       "      <th></th>\n",
       "      <th>Return on Assets</th>\n",
       "      <th>Rev per share</th>\n",
       "    </tr>\n",
       "    <tr>\n",
       "      <th>ID</th>\n",
       "      <th></th>\n",
       "      <th></th>\n",
       "    </tr>\n",
       "  </thead>\n",
       "  <tbody>\n",
       "    <tr>\n",
       "      <th>FTI</th>\n",
       "      <td>0.012</td>\n",
       "      <td>-11.63</td>\n",
       "    </tr>\n",
       "    <tr>\n",
       "      <th>VTRS</th>\n",
       "      <td>-0.033</td>\n",
       "      <td>-13.10</td>\n",
       "    </tr>\n",
       "    <tr>\n",
       "      <th>LUMN</th>\n",
       "      <td>0.035</td>\n",
       "      <td>10.50</td>\n",
       "    </tr>\n",
       "    <tr>\n",
       "      <th>AMCR</th>\n",
       "      <td>0.056</td>\n",
       "      <td>23.80</td>\n",
       "    </tr>\n",
       "    <tr>\n",
       "      <th>HBAN</th>\n",
       "      <td>0.007</td>\n",
       "      <td>5.00</td>\n",
       "    </tr>\n",
       "  </tbody>\n",
       "</table>\n",
       "</div>\n",
       "      <button class=\"colab-df-convert\" onclick=\"convertToInteractive('df-27c454a9-53a2-4260-b6f5-bfb73c5c6692')\"\n",
       "              title=\"Convert this dataframe to an interactive table.\"\n",
       "              style=\"display:none;\">\n",
       "        \n",
       "  <svg xmlns=\"http://www.w3.org/2000/svg\" height=\"24px\"viewBox=\"0 0 24 24\"\n",
       "       width=\"24px\">\n",
       "    <path d=\"M0 0h24v24H0V0z\" fill=\"none\"/>\n",
       "    <path d=\"M18.56 5.44l.94 2.06.94-2.06 2.06-.94-2.06-.94-.94-2.06-.94 2.06-2.06.94zm-11 1L8.5 8.5l.94-2.06 2.06-.94-2.06-.94L8.5 2.5l-.94 2.06-2.06.94zm10 10l.94 2.06.94-2.06 2.06-.94-2.06-.94-.94-2.06-.94 2.06-2.06.94z\"/><path d=\"M17.41 7.96l-1.37-1.37c-.4-.4-.92-.59-1.43-.59-.52 0-1.04.2-1.43.59L10.3 9.45l-7.72 7.72c-.78.78-.78 2.05 0 2.83L4 21.41c.39.39.9.59 1.41.59.51 0 1.02-.2 1.41-.59l7.78-7.78 2.81-2.81c.8-.78.8-2.07 0-2.86zM5.41 20L4 18.59l7.72-7.72 1.47 1.35L5.41 20z\"/>\n",
       "  </svg>\n",
       "      </button>\n",
       "      \n",
       "  <style>\n",
       "    .colab-df-container {\n",
       "      display:flex;\n",
       "      flex-wrap:wrap;\n",
       "      gap: 12px;\n",
       "    }\n",
       "\n",
       "    .colab-df-convert {\n",
       "      background-color: #E8F0FE;\n",
       "      border: none;\n",
       "      border-radius: 50%;\n",
       "      cursor: pointer;\n",
       "      display: none;\n",
       "      fill: #1967D2;\n",
       "      height: 32px;\n",
       "      padding: 0 0 0 0;\n",
       "      width: 32px;\n",
       "    }\n",
       "\n",
       "    .colab-df-convert:hover {\n",
       "      background-color: #E2EBFA;\n",
       "      box-shadow: 0px 1px 2px rgba(60, 64, 67, 0.3), 0px 1px 3px 1px rgba(60, 64, 67, 0.15);\n",
       "      fill: #174EA6;\n",
       "    }\n",
       "\n",
       "    [theme=dark] .colab-df-convert {\n",
       "      background-color: #3B4455;\n",
       "      fill: #D2E3FC;\n",
       "    }\n",
       "\n",
       "    [theme=dark] .colab-df-convert:hover {\n",
       "      background-color: #434B5C;\n",
       "      box-shadow: 0px 1px 3px 1px rgba(0, 0, 0, 0.15);\n",
       "      filter: drop-shadow(0px 1px 2px rgba(0, 0, 0, 0.3));\n",
       "      fill: #FFFFFF;\n",
       "    }\n",
       "  </style>\n",
       "\n",
       "      <script>\n",
       "        const buttonEl =\n",
       "          document.querySelector('#df-27c454a9-53a2-4260-b6f5-bfb73c5c6692 button.colab-df-convert');\n",
       "        buttonEl.style.display =\n",
       "          google.colab.kernel.accessAllowed ? 'block' : 'none';\n",
       "\n",
       "        async function convertToInteractive(key) {\n",
       "          const element = document.querySelector('#df-27c454a9-53a2-4260-b6f5-bfb73c5c6692');\n",
       "          const dataTable =\n",
       "            await google.colab.kernel.invokeFunction('convertToInteractive',\n",
       "                                                     [key], {});\n",
       "          if (!dataTable) return;\n",
       "\n",
       "          const docLinkHtml = 'Like what you see? Visit the ' +\n",
       "            '<a target=\"_blank\" href=https://colab.research.google.com/notebooks/data_table.ipynb>data table notebook</a>'\n",
       "            + ' to learn more about interactive tables.';\n",
       "          element.innerHTML = '';\n",
       "          dataTable['output_type'] = 'display_data';\n",
       "          await google.colab.output.renderOutput(dataTable, element);\n",
       "          const docLink = document.createElement('div');\n",
       "          docLink.innerHTML = docLinkHtml;\n",
       "          element.appendChild(docLink);\n",
       "        }\n",
       "      </script>\n",
       "    </div>\n",
       "  </div>\n",
       "  "
      ],
      "text/plain": [
       "      Return on Assets  Rev per share\n",
       "ID                                   \n",
       "FTI              0.012         -11.63\n",
       "VTRS            -0.033         -13.10\n",
       "LUMN             0.035          10.50\n",
       "AMCR             0.056          23.80\n",
       "HBAN             0.007           5.00"
      ]
     },
     "execution_count": 19,
     "metadata": {},
     "output_type": "execute_result"
    }
   ],
   "source": [
    "# Both Revenue per share and Return on Assets are ratios. They are already scaled to the company size.\n",
    "# We can use Winsorization to transforms data by limiting extreme values, typically by setting all outliers to a specified percentile of data\n",
    "X =np.asarray([np.asarray(data['Return on Assets']),np.asarray(data['Rev per share'])])\n",
    "X = mstats.winsorize(X, limits = [0.05, 0.05])\n",
    "data=pd.DataFrame(X, index=['Return on Assets','Rev per share'], columns=data.index).T\n",
    "data.head()"
   ]
  },
  {
   "cell_type": "code",
   "execution_count": null,
   "id": "rB4HzmbJl1zl",
   "metadata": {
    "colab": {
     "base_uri": "https://localhost:8080/",
     "height": 295
    },
    "id": "rB4HzmbJl1zl",
    "outputId": "03e19134-a42d-461e-bbaa-2af09d28be93"
   },
   "outputs": [
    {
     "data": {
      "image/png": "[encoded data removed]",
      "text/plain": [
       "<Figure size 432x288 with 1 Axes>"
      ]
     },
     "metadata": {},
     "output_type": "display_data"
    }
   ],
   "source": [
    "# Visualize scatterplot\n",
    "plt.style.use(\"dark_background\")\n",
    "g = sns.scatterplot(x='Return on Assets', y='Rev per share', data=data)\n",
    "plt.title(\"Winsorized Data\")\n",
    "\n",
    "# Some random point we want to classify\n",
    "plt.scatter(0.05, 50, marker='o', s=80, color='red')\n",
    "plt.show()"
   ]
  },
  {
   "cell_type": "markdown",
   "id": "8d8-klyjl1zl",
   "metadata": {
    "id": "8d8-klyjl1zl"
   },
   "source": [
    "### <I>3. Choose K (Elbow Method)</I>"
   ]
  },
  {
   "cell_type": "markdown",
   "id": "WcGnx-H7l1zm",
   "metadata": {
    "id": "WcGnx-H7l1zm"
   },
   "source": [
    "The most common methods to choose K ( the appropriate number of clusters) :\n",
    "    <ul>\n",
    "        <li>**The Elbow Method** </li>\n",
    "    </ul>\n",
    "\n",
    "The silhouette coefficient is a value that ranges between -1 and 1. It quantifies how well a data point fits into its assigned cluster based on two factors:\n",
    "1. How close the data point is to other points in the cluster\n",
    "2. How far away the data point is from points in other clusters\n",
    "\n",
    "Larger numbers for Silhouette coefficient indicate that samples are closer to their clusters than they are to other clusters.\n",
    "\n",
    "The elbow method is used by running several k-means, increment k with each iteration, and record the SSE ( Sum Of Squared Error) <br><br>\n",
    "$$SSE= Sum  \\; Of  \\; Euclidean  \\; Squared  \\; Distances  \\; of  \\; each  \\; point \\; to \\; its  \\; closest \\; centroid $$<br>\n",
    "After that , we plot SSE as a function of the number of clusters. SSE continues to decrease as you increase k. As more centroids are added, the distance from each point to its closest centroid will decrease.\n",
    "There’s a sweet spot where the SSE curve starts to bend known as the elbow point. The x-value of this point is thought to be a reasonable trade-off between error and number of clusters. <br>"
   ]
  },
  {
   "cell_type": "markdown",
   "id": "ti7PGm1regsn",
   "metadata": {
    "id": "ti7PGm1regsn"
   },
   "source": []
  },
  {
   "cell_type": "code",
   "execution_count": null,
   "id": "dZcWH4adl1zm",
   "metadata": {
    "id": "dZcWH4adl1zm"
   },
   "outputs": [],
   "source": [
    "distorsions = []\n",
    "clusters_iterations=range(2, 20)\n",
    "for k in clusters_iterations:\n",
    "    k_means = KMeans(n_clusters=k)\n",
    "    k_means.fit(data)\n",
    "    distorsions.append(k_means.inertia_)"
   ]
  },
  {
   "cell_type": "code",
   "execution_count": null,
   "id": "VhvGOnEul1zm",
   "metadata": {
    "colab": {
     "base_uri": "https://localhost:8080/",
     "height": 238
    },
    "id": "VhvGOnEul1zm",
    "outputId": "6a0e1353-abaf-4dcf-c97e-9d1dcb0f8b01"
   },
   "outputs": [
    {
     "data": {
      "text/html": [
       "\n",
       "  <div id=\"df-ba78b08b-e24c-4646-83ac-a408cd4f911d\">\n",
       "    <div class=\"colab-df-container\">\n",
       "      <div>\n",
       "<style scoped>\n",
       "    .dataframe tbody tr th:only-of-type {\n",
       "        vertical-align: middle;\n",
       "    }\n",
       "\n",
       "    .dataframe tbody tr th {\n",
       "        vertical-align: top;\n",
       "    }\n",
       "\n",
       "    .dataframe thead th {\n",
       "        text-align: right;\n",
       "    }\n",
       "</style>\n",
       "<table border=\"1\" class=\"dataframe\">\n",
       "  <thead>\n",
       "    <tr style=\"text-align: right;\">\n",
       "      <th></th>\n",
       "      <th>SSE</th>\n",
       "    </tr>\n",
       "    <tr>\n",
       "      <th>Cluster</th>\n",
       "      <th></th>\n",
       "    </tr>\n",
       "  </thead>\n",
       "  <tbody>\n",
       "    <tr>\n",
       "      <th>2</th>\n",
       "      <td>39365.539147</td>\n",
       "    </tr>\n",
       "    <tr>\n",
       "      <th>3</th>\n",
       "      <td>15981.510022</td>\n",
       "    </tr>\n",
       "    <tr>\n",
       "      <th>4</th>\n",
       "      <td>7564.358136</td>\n",
       "    </tr>\n",
       "    <tr>\n",
       "      <th>5</th>\n",
       "      <td>4648.628360</td>\n",
       "    </tr>\n",
       "    <tr>\n",
       "      <th>6</th>\n",
       "      <td>3047.015284</td>\n",
       "    </tr>\n",
       "  </tbody>\n",
       "</table>\n",
       "</div>\n",
       "      <button class=\"colab-df-convert\" onclick=\"convertToInteractive('df-ba78b08b-e24c-4646-83ac-a408cd4f911d')\"\n",
       "              title=\"Convert this dataframe to an interactive table.\"\n",
       "              style=\"display:none;\">\n",
       "        \n",
       "  <svg xmlns=\"http://www.w3.org/2000/svg\" height=\"24px\"viewBox=\"0 0 24 24\"\n",
       "       width=\"24px\">\n",
       "    <path d=\"M0 0h24v24H0V0z\" fill=\"none\"/>\n",
       "    <path d=\"M18.56 5.44l.94 2.06.94-2.06 2.06-.94-2.06-.94-.94-2.06-.94 2.06-2.06.94zm-11 1L8.5 8.5l.94-2.06 2.06-.94-2.06-.94L8.5 2.5l-.94 2.06-2.06.94zm10 10l.94 2.06.94-2.06 2.06-.94-2.06-.94-.94-2.06-.94 2.06-2.06.94z\"/><path d=\"M17.41 7.96l-1.37-1.37c-.4-.4-.92-.59-1.43-.59-.52 0-1.04.2-1.43.59L10.3 9.45l-7.72 7.72c-.78.78-.78 2.05 0 2.83L4 21.41c.39.39.9.59 1.41.59.51 0 1.02-.2 1.41-.59l7.78-7.78 2.81-2.81c.8-.78.8-2.07 0-2.86zM5.41 20L4 18.59l7.72-7.72 1.47 1.35L5.41 20z\"/>\n",
       "  </svg>\n",
       "      </button>\n",
       "      \n",
       "  <style>\n",
       "    .colab-df-container {\n",
       "      display:flex;\n",
       "      flex-wrap:wrap;\n",
       "      gap: 12px;\n",
       "    }\n",
       "\n",
       "    .colab-df-convert {\n",
       "      background-color: #E8F0FE;\n",
       "      border: none;\n",
       "      border-radius: 50%;\n",
       "      cursor: pointer;\n",
       "      display: none;\n",
       "      fill: #1967D2;\n",
       "      height: 32px;\n",
       "      padding: 0 0 0 0;\n",
       "      width: 32px;\n",
       "    }\n",
       "\n",
       "    .colab-df-convert:hover {\n",
       "      background-color: #E2EBFA;\n",
       "      box-shadow: 0px 1px 2px rgba(60, 64, 67, 0.3), 0px 1px 3px 1px rgba(60, 64, 67, 0.15);\n",
       "      fill: #174EA6;\n",
       "    }\n",
       "\n",
       "    [theme=dark] .colab-df-convert {\n",
       "      background-color: #3B4455;\n",
       "      fill: #D2E3FC;\n",
       "    }\n",
       "\n",
       "    [theme=dark] .colab-df-convert:hover {\n",
       "      background-color: #434B5C;\n",
       "      box-shadow: 0px 1px 3px 1px rgba(0, 0, 0, 0.15);\n",
       "      filter: drop-shadow(0px 1px 2px rgba(0, 0, 0, 0.3));\n",
       "      fill: #FFFFFF;\n",
       "    }\n",
       "  </style>\n",
       "\n",
       "      <script>\n",
       "        const buttonEl =\n",
       "          document.querySelector('#df-ba78b08b-e24c-4646-83ac-a408cd4f911d button.colab-df-convert');\n",
       "        buttonEl.style.display =\n",
       "          google.colab.kernel.accessAllowed ? 'block' : 'none';\n",
       "\n",
       "        async function convertToInteractive(key) {\n",
       "          const element = document.querySelector('#df-ba78b08b-e24c-4646-83ac-a408cd4f911d');\n",
       "          const dataTable =\n",
       "            await google.colab.kernel.invokeFunction('convertToInteractive',\n",
       "                                                     [key], {});\n",
       "          if (!dataTable) return;\n",
       "\n",
       "          const docLinkHtml = 'Like what you see? Visit the ' +\n",
       "            '<a target=\"_blank\" href=https://colab.research.google.com/notebooks/data_table.ipynb>data table notebook</a>'\n",
       "            + ' to learn more about interactive tables.';\n",
       "          element.innerHTML = '';\n",
       "          dataTable['output_type'] = 'display_data';\n",
       "          await google.colab.output.renderOutput(dataTable, element);\n",
       "          const docLink = document.createElement('div');\n",
       "          docLink.innerHTML = docLinkHtml;\n",
       "          element.appendChild(docLink);\n",
       "        }\n",
       "      </script>\n",
       "    </div>\n",
       "  </div>\n",
       "  "
      ],
      "text/plain": [
       "                  SSE\n",
       "Cluster              \n",
       "2        39365.539147\n",
       "3        15981.510022\n",
       "4         7564.358136\n",
       "5         4648.628360\n",
       "6         3047.015284"
      ]
     },
     "execution_count": 22,
     "metadata": {},
     "output_type": "execute_result"
    }
   ],
   "source": [
    "elbow_curve_data=pd.DataFrame(zip(clusters_iterations,distorsions),columns=['Cluster','SSE']).set_index('Cluster')\n",
    "elbow_curve_data.head()"
   ]
  },
  {
   "cell_type": "code",
   "execution_count": null,
   "id": "GZS8QxjZl1zn",
   "metadata": {
    "colab": {
     "base_uri": "https://localhost:8080/",
     "height": 444
    },
    "id": "GZS8QxjZl1zn",
    "outputId": "963d612c-8594-4b6d-b6a3-a43f6a21061c"
   },
   "outputs": [
    {
     "data": {
      "image/png": "[encoded data removed]",
      "text/plain": [
       "<Figure size 792x504 with 1 Axes>"
      ]
     },
     "metadata": {},
     "output_type": "display_data"
    }
   ],
   "source": [
    "# Visualize plot\n",
    "plt.figure(figsize=(11,7))\n",
    "plt.style.use(\"dark_background\")\n",
    "plt.plot(elbow_curve_data['SSE'])\n",
    "plt.title(\"Elbow Curve\")\n",
    "\n",
    "plt.show()"
   ]
  },
  {
   "cell_type": "code",
   "execution_count": null,
   "id": "iEIaVBp-l1zn",
   "metadata": {
    "colab": {
     "base_uri": "https://localhost:8080/"
    },
    "id": "iEIaVBp-l1zn",
    "outputId": "de1d4dda-5507-46bf-ee9a-fc304f4a4a18"
   },
   "outputs": [
    {
     "name": "stdout",
     "output_type": "stream",
     "text": [
      "Elbow = 5\n"
     ]
    }
   ],
   "source": [
    "# get elbow programmatically\n",
    "from kneed import KneeLocator \n",
    "kl = KneeLocator(\n",
    "clusters_iterations, distorsions, curve=\"convex\", direction=\"decreasing\")\n",
    "elbow=kl.elbow\n",
    "\n",
    "print('Elbow = {}'.format(elbow))"
   ]
  },
  {
   "cell_type": "markdown",
   "id": "nbE-jys6l1zn",
   "metadata": {
    "id": "nbE-jys6l1zn"
   },
   "source": [
    "### <I>4. Analyze the clustering results</I>"
   ]
  },
  {
   "cell_type": "code",
   "execution_count": null,
   "id": "6fJypGudl1zn",
   "metadata": {
    "id": "6fJypGudl1zn"
   },
   "outputs": [],
   "source": [
    "# We apply KMeans for the Elbow's value  ( in this case = 5)\n",
    "kmeans = KMeans(n_clusters=elbow)\n",
    "kmeans.fit(data)\n",
    "y_kmeans = kmeans.predict(data)\n",
    "df_kmeans = data.copy()\n",
    "df_kmeans['cluster']=y_kmeans.astype(str)"
   ]
  },
  {
   "cell_type": "code",
   "execution_count": null,
   "id": "Ed2DkgcCl1zn",
   "metadata": {
    "colab": {
     "base_uri": "https://localhost:8080/",
     "height": 295
    },
    "id": "Ed2DkgcCl1zn",
    "outputId": "f1eb818f-4694-479d-e682-ccef5e435470"
   },
   "outputs": [
    {
     "data": {
      "image/png": "[encoded data removed]",
      "text/plain": [
       "<Figure size 432x288 with 1 Axes>"
      ]
     },
     "metadata": {},
     "output_type": "display_data"
    }
   ],
   "source": [
    "# Visualize the results\n",
    "plt.style.use(\"dark_background\")\n",
    "g = sns.scatterplot(x='Return on Assets', y='Rev per share', hue=df_kmeans['cluster'].astype(int), \n",
    "                    palette=['blue','green','yellow','orange','red'], data=df_kmeans)\n",
    "plt.scatter(kmeans.cluster_centers_[:,0], kmeans.cluster_centers_[:,1], \n",
    "            marker=\"X\", c=\"m\", s=80, label=\"centroids\")\n",
    "plt.title(\"K-Means Clustering\")\n",
    "\n",
    "# Some random point we want to classify\n",
    "plt.show()"
   ]
  },
  {
   "cell_type": "code",
   "execution_count": null,
   "id": "IkTi5nsql1zo",
   "metadata": {
    "colab": {
     "base_uri": "https://localhost:8080/",
     "height": 206
    },
    "id": "IkTi5nsql1zo",
    "outputId": "93de0e19-4e20-47d2-ea57-a0d6c88b104f"
   },
   "outputs": [
    {
     "data": {
      "text/html": [
       "\n",
       "  <div id=\"df-5aac6096-73cd-439a-812b-d07776e5c0ee\">\n",
       "    <div class=\"colab-df-container\">\n",
       "      <div>\n",
       "<style scoped>\n",
       "    .dataframe tbody tr th:only-of-type {\n",
       "        vertical-align: middle;\n",
       "    }\n",
       "\n",
       "    .dataframe tbody tr th {\n",
       "        vertical-align: top;\n",
       "    }\n",
       "\n",
       "    .dataframe thead th {\n",
       "        text-align: right;\n",
       "    }\n",
       "</style>\n",
       "<table border=\"1\" class=\"dataframe\">\n",
       "  <thead>\n",
       "    <tr style=\"text-align: right;\">\n",
       "      <th></th>\n",
       "      <th>Return on Assets</th>\n",
       "      <th>Rev per share</th>\n",
       "    </tr>\n",
       "  </thead>\n",
       "  <tbody>\n",
       "    <tr>\n",
       "      <th>0</th>\n",
       "      <td>0.023360</td>\n",
       "      <td>-11.573200</td>\n",
       "    </tr>\n",
       "    <tr>\n",
       "      <th>1</th>\n",
       "      <td>0.114505</td>\n",
       "      <td>35.991895</td>\n",
       "    </tr>\n",
       "    <tr>\n",
       "      <th>2</th>\n",
       "      <td>0.082992</td>\n",
       "      <td>11.788110</td>\n",
       "    </tr>\n",
       "    <tr>\n",
       "      <th>3</th>\n",
       "      <td>0.056674</td>\n",
       "      <td>2.506522</td>\n",
       "    </tr>\n",
       "    <tr>\n",
       "      <th>4</th>\n",
       "      <td>0.101653</td>\n",
       "      <td>21.833663</td>\n",
       "    </tr>\n",
       "  </tbody>\n",
       "</table>\n",
       "</div>\n",
       "      <button class=\"colab-df-convert\" onclick=\"convertToInteractive('df-5aac6096-73cd-439a-812b-d07776e5c0ee')\"\n",
       "              title=\"Convert this dataframe to an interactive table.\"\n",
       "              style=\"display:none;\">\n",
       "        \n",
       "  <svg xmlns=\"http://www.w3.org/2000/svg\" height=\"24px\"viewBox=\"0 0 24 24\"\n",
       "       width=\"24px\">\n",
       "    <path d=\"M0 0h24v24H0V0z\" fill=\"none\"/>\n",
       "    <path d=\"M18.56 5.44l.94 2.06.94-2.06 2.06-.94-2.06-.94-.94-2.06-.94 2.06-2.06.94zm-11 1L8.5 8.5l.94-2.06 2.06-.94-2.06-.94L8.5 2.5l-.94 2.06-2.06.94zm10 10l.94 2.06.94-2.06 2.06-.94-2.06-.94-.94-2.06-.94 2.06-2.06.94z\"/><path d=\"M17.41 7.96l-1.37-1.37c-.4-.4-.92-.59-1.43-.59-.52 0-1.04.2-1.43.59L10.3 9.45l-7.72 7.72c-.78.78-.78 2.05 0 2.83L4 21.41c.39.39.9.59 1.41.59.51 0 1.02-.2 1.41-.59l7.78-7.78 2.81-2.81c.8-.78.8-2.07 0-2.86zM5.41 20L4 18.59l7.72-7.72 1.47 1.35L5.41 20z\"/>\n",
       "  </svg>\n",
       "      </button>\n",
       "      \n",
       "  <style>\n",
       "    .colab-df-container {\n",
       "      display:flex;\n",
       "      flex-wrap:wrap;\n",
       "      gap: 12px;\n",
       "    }\n",
       "\n",
       "    .colab-df-convert {\n",
       "      background-color: #E8F0FE;\n",
       "      border: none;\n",
       "      border-radius: 50%;\n",
       "      cursor: pointer;\n",
       "      display: none;\n",
       "      fill: #1967D2;\n",
       "      height: 32px;\n",
       "      padding: 0 0 0 0;\n",
       "      width: 32px;\n",
       "    }\n",
       "\n",
       "    .colab-df-convert:hover {\n",
       "      background-color: #E2EBFA;\n",
       "      box-shadow: 0px 1px 2px rgba(60, 64, 67, 0.3), 0px 1px 3px 1px rgba(60, 64, 67, 0.15);\n",
       "      fill: #174EA6;\n",
       "    }\n",
       "\n",
       "    [theme=dark] .colab-df-convert {\n",
       "      background-color: #3B4455;\n",
       "      fill: #D2E3FC;\n",
       "    }\n",
       "\n",
       "    [theme=dark] .colab-df-convert:hover {\n",
       "      background-color: #434B5C;\n",
       "      box-shadow: 0px 1px 3px 1px rgba(0, 0, 0, 0.15);\n",
       "      filter: drop-shadow(0px 1px 2px rgba(0, 0, 0, 0.3));\n",
       "      fill: #FFFFFF;\n",
       "    }\n",
       "  </style>\n",
       "\n",
       "      <script>\n",
       "        const buttonEl =\n",
       "          document.querySelector('#df-5aac6096-73cd-439a-812b-d07776e5c0ee button.colab-df-convert');\n",
       "        buttonEl.style.display =\n",
       "          google.colab.kernel.accessAllowed ? 'block' : 'none';\n",
       "\n",
       "        async function convertToInteractive(key) {\n",
       "          const element = document.querySelector('#df-5aac6096-73cd-439a-812b-d07776e5c0ee');\n",
       "          const dataTable =\n",
       "            await google.colab.kernel.invokeFunction('convertToInteractive',\n",
       "                                                     [key], {});\n",
       "          if (!dataTable) return;\n",
       "\n",
       "          const docLinkHtml = 'Like what you see? Visit the ' +\n",
       "            '<a target=\"_blank\" href=https://colab.research.google.com/notebooks/data_table.ipynb>data table notebook</a>'\n",
       "            + ' to learn more about interactive tables.';\n",
       "          element.innerHTML = '';\n",
       "          dataTable['output_type'] = 'display_data';\n",
       "          await google.colab.output.renderOutput(dataTable, element);\n",
       "          const docLink = document.createElement('div');\n",
       "          docLink.innerHTML = docLinkHtml;\n",
       "          element.appendChild(docLink);\n",
       "        }\n",
       "      </script>\n",
       "    </div>\n",
       "  </div>\n",
       "  "
      ],
      "text/plain": [
       "   Return on Assets  Rev per share\n",
       "0          0.023360     -11.573200\n",
       "1          0.114505      35.991895\n",
       "2          0.082992      11.788110\n",
       "3          0.056674       2.506522\n",
       "4          0.101653      21.833663"
      ]
     },
     "execution_count": 27,
     "metadata": {},
     "output_type": "execute_result"
    }
   ],
   "source": [
    "# see the centers \n",
    "clusters_centers_df=pd.DataFrame(kmeans.cluster_centers_,columns=['Return on Assets','Rev per share'])\n",
    "clusters_centers_df"
   ]
  },
  {
   "cell_type": "code",
   "execution_count": null,
   "id": "2x1tgeanl1zo",
   "metadata": {
    "colab": {
     "base_uri": "https://localhost:8080/",
     "height": 238
    },
    "id": "2x1tgeanl1zo",
    "outputId": "6b91976e-396a-4ac8-dc2a-f7bf34e9fe9e"
   },
   "outputs": [
    {
     "data": {
      "text/html": [
       "\n",
       "  <div id=\"df-98cb74de-f3fe-4830-bfeb-a689c847e2d0\">\n",
       "    <div class=\"colab-df-container\">\n",
       "      <div>\n",
       "<style scoped>\n",
       "    .dataframe tbody tr th:only-of-type {\n",
       "        vertical-align: middle;\n",
       "    }\n",
       "\n",
       "    .dataframe tbody tr th {\n",
       "        vertical-align: top;\n",
       "    }\n",
       "\n",
       "    .dataframe thead th {\n",
       "        text-align: right;\n",
       "    }\n",
       "</style>\n",
       "<table border=\"1\" class=\"dataframe\">\n",
       "  <thead>\n",
       "    <tr style=\"text-align: right;\">\n",
       "      <th></th>\n",
       "      <th>Company</th>\n",
       "    </tr>\n",
       "    <tr>\n",
       "      <th>Cluster</th>\n",
       "      <th></th>\n",
       "    </tr>\n",
       "  </thead>\n",
       "  <tbody>\n",
       "    <tr>\n",
       "      <th>0</th>\n",
       "      <td>FTI</td>\n",
       "    </tr>\n",
       "    <tr>\n",
       "      <th>0</th>\n",
       "      <td>VTRS</td>\n",
       "    </tr>\n",
       "    <tr>\n",
       "      <th>2</th>\n",
       "      <td>LUMN</td>\n",
       "    </tr>\n",
       "    <tr>\n",
       "      <th>4</th>\n",
       "      <td>AMCR</td>\n",
       "    </tr>\n",
       "    <tr>\n",
       "      <th>3</th>\n",
       "      <td>HBAN</td>\n",
       "    </tr>\n",
       "  </tbody>\n",
       "</table>\n",
       "</div>\n",
       "      <button class=\"colab-df-convert\" onclick=\"convertToInteractive('df-98cb74de-f3fe-4830-bfeb-a689c847e2d0')\"\n",
       "              title=\"Convert this dataframe to an interactive table.\"\n",
       "              style=\"display:none;\">\n",
       "        \n",
       "  <svg xmlns=\"http://www.w3.org/2000/svg\" height=\"24px\"viewBox=\"0 0 24 24\"\n",
       "       width=\"24px\">\n",
       "    <path d=\"M0 0h24v24H0V0z\" fill=\"none\"/>\n",
       "    <path d=\"M18.56 5.44l.94 2.06.94-2.06 2.06-.94-2.06-.94-.94-2.06-.94 2.06-2.06.94zm-11 1L8.5 8.5l.94-2.06 2.06-.94-2.06-.94L8.5 2.5l-.94 2.06-2.06.94zm10 10l.94 2.06.94-2.06 2.06-.94-2.06-.94-.94-2.06-.94 2.06-2.06.94z\"/><path d=\"M17.41 7.96l-1.37-1.37c-.4-.4-.92-.59-1.43-.59-.52 0-1.04.2-1.43.59L10.3 9.45l-7.72 7.72c-.78.78-.78 2.05 0 2.83L4 21.41c.39.39.9.59 1.41.59.51 0 1.02-.2 1.41-.59l7.78-7.78 2.81-2.81c.8-.78.8-2.07 0-2.86zM5.41 20L4 18.59l7.72-7.72 1.47 1.35L5.41 20z\"/>\n",
       "  </svg>\n",
       "      </button>\n",
       "      \n",
       "  <style>\n",
       "    .colab-df-container {\n",
       "      display:flex;\n",
       "      flex-wrap:wrap;\n",
       "      gap: 12px;\n",
       "    }\n",
       "\n",
       "    .colab-df-convert {\n",
       "      background-color: #E8F0FE;\n",
       "      border: none;\n",
       "      border-radius: 50%;\n",
       "      cursor: pointer;\n",
       "      display: none;\n",
       "      fill: #1967D2;\n",
       "      height: 32px;\n",
       "      padding: 0 0 0 0;\n",
       "      width: 32px;\n",
       "    }\n",
       "\n",
       "    .colab-df-convert:hover {\n",
       "      background-color: #E2EBFA;\n",
       "      box-shadow: 0px 1px 2px rgba(60, 64, 67, 0.3), 0px 1px 3px 1px rgba(60, 64, 67, 0.15);\n",
       "      fill: #174EA6;\n",
       "    }\n",
       "\n",
       "    [theme=dark] .colab-df-convert {\n",
       "      background-color: #3B4455;\n",
       "      fill: #D2E3FC;\n",
       "    }\n",
       "\n",
       "    [theme=dark] .colab-df-convert:hover {\n",
       "      background-color: #434B5C;\n",
       "      box-shadow: 0px 1px 3px 1px rgba(0, 0, 0, 0.15);\n",
       "      filter: drop-shadow(0px 1px 2px rgba(0, 0, 0, 0.3));\n",
       "      fill: #FFFFFF;\n",
       "    }\n",
       "  </style>\n",
       "\n",
       "      <script>\n",
       "        const buttonEl =\n",
       "          document.querySelector('#df-98cb74de-f3fe-4830-bfeb-a689c847e2d0 button.colab-df-convert');\n",
       "        buttonEl.style.display =\n",
       "          google.colab.kernel.accessAllowed ? 'block' : 'none';\n",
       "\n",
       "        async function convertToInteractive(key) {\n",
       "          const element = document.querySelector('#df-98cb74de-f3fe-4830-bfeb-a689c847e2d0');\n",
       "          const dataTable =\n",
       "            await google.colab.kernel.invokeFunction('convertToInteractive',\n",
       "                                                     [key], {});\n",
       "          if (!dataTable) return;\n",
       "\n",
       "          const docLinkHtml = 'Like what you see? Visit the ' +\n",
       "            '<a target=\"_blank\" href=https://colab.research.google.com/notebooks/data_table.ipynb>data table notebook</a>'\n",
       "            + ' to learn more about interactive tables.';\n",
       "          element.innerHTML = '';\n",
       "          dataTable['output_type'] = 'display_data';\n",
       "          await google.colab.output.renderOutput(dataTable, element);\n",
       "          const docLink = document.createElement('div');\n",
       "          docLink.innerHTML = docLinkHtml;\n",
       "          element.appendChild(docLink);\n",
       "        }\n",
       "      </script>\n",
       "    </div>\n",
       "  </div>\n",
       "  "
      ],
      "text/plain": [
       "        Company\n",
       "Cluster        \n",
       "0           FTI\n",
       "0          VTRS\n",
       "2          LUMN\n",
       "4          AMCR\n",
       "3          HBAN"
      ]
     },
     "execution_count": 28,
     "metadata": {},
     "output_type": "execute_result"
    }
   ],
   "source": [
    "# See the clustering by Company \n",
    "clustering_result=pd.DataFrame(zip(y_kmeans,data.index),columns=['Cluster','Company'])\n",
    "clustering_result.set_index('Cluster').head()"
   ]
  },
  {
   "cell_type": "code",
   "execution_count": null,
   "id": "ZWWaYOjFl1zo",
   "metadata": {
    "colab": {
     "base_uri": "https://localhost:8080/"
    },
    "id": "ZWWaYOjFl1zo",
    "outputId": "5d3975fc-d198-4168-9d69-963c25f5f3bc"
   },
   "outputs": [
    {
     "name": "stdout",
     "output_type": "stream",
     "text": [
      "        Company\n",
      "Cluster        \n",
      "0           FTI\n",
      "0          VTRS\n",
      "0           AAL\n",
      "0          NLSN\n",
      "0           HST\n",
      "        Company\n",
      "Cluster        \n",
      "2          LUMN\n",
      "2           UAA\n",
      "2           IVZ\n",
      "2          NWSA\n",
      "2          PARA\n",
      "        Company\n",
      "Cluster        \n",
      "4          AMCR\n",
      "4           KMI\n",
      "4            RF\n",
      "4           MRO\n",
      "4          NLOK\n",
      "        Company\n",
      "Cluster        \n",
      "3          HBAN\n",
      "3           HPE\n",
      "3           KIM\n",
      "3           KEY\n",
      "3             T\n",
      "        Company\n",
      "Cluster        \n",
      "1             F\n",
      "1           NWL\n",
      "1          CTRA\n",
      "1           BKR\n",
      "1           CAG\n"
     ]
    }
   ],
   "source": [
    "for cluster_num in list(clustering_result.set_index('Cluster').index.unique()):\n",
    "    print (clustering_result.set_index('Cluster').loc[cluster_num].head())"
   ]
  },
  {
   "cell_type": "code",
   "execution_count": null,
   "id": "sdEhWP5Xl1zp",
   "metadata": {
    "colab": {
     "base_uri": "https://localhost:8080/",
     "height": 206
    },
    "id": "sdEhWP5Xl1zp",
    "outputId": "801d4160-9c03-4934-d889-8f895e9b73ca"
   },
   "outputs": [
    {
     "data": {
      "text/html": [
       "\n",
       "  <div id=\"df-5c83571b-54d1-4af6-9a8e-0746ce6e99e2\">\n",
       "    <div class=\"colab-df-container\">\n",
       "      <div>\n",
       "<style scoped>\n",
       "    .dataframe tbody tr th:only-of-type {\n",
       "        vertical-align: middle;\n",
       "    }\n",
       "\n",
       "    .dataframe tbody tr th {\n",
       "        vertical-align: top;\n",
       "    }\n",
       "\n",
       "    .dataframe thead th {\n",
       "        text-align: right;\n",
       "    }\n",
       "</style>\n",
       "<table border=\"1\" class=\"dataframe\">\n",
       "  <thead>\n",
       "    <tr style=\"text-align: right;\">\n",
       "      <th></th>\n",
       "      <th>Return on Assets</th>\n",
       "      <th>Rev per share</th>\n",
       "      <th>Count</th>\n",
       "    </tr>\n",
       "  </thead>\n",
       "  <tbody>\n",
       "    <tr>\n",
       "      <th>0</th>\n",
       "      <td>0.023360</td>\n",
       "      <td>-11.573200</td>\n",
       "      <td>75</td>\n",
       "    </tr>\n",
       "    <tr>\n",
       "      <th>1</th>\n",
       "      <td>0.114505</td>\n",
       "      <td>35.991895</td>\n",
       "      <td>95</td>\n",
       "    </tr>\n",
       "    <tr>\n",
       "      <th>2</th>\n",
       "      <td>0.082992</td>\n",
       "      <td>11.788110</td>\n",
       "      <td>127</td>\n",
       "    </tr>\n",
       "    <tr>\n",
       "      <th>3</th>\n",
       "      <td>0.056674</td>\n",
       "      <td>2.506522</td>\n",
       "      <td>92</td>\n",
       "    </tr>\n",
       "    <tr>\n",
       "      <th>4</th>\n",
       "      <td>0.101653</td>\n",
       "      <td>21.833663</td>\n",
       "      <td>101</td>\n",
       "    </tr>\n",
       "  </tbody>\n",
       "</table>\n",
       "</div>\n",
       "      <button class=\"colab-df-convert\" onclick=\"convertToInteractive('df-5c83571b-54d1-4af6-9a8e-0746ce6e99e2')\"\n",
       "              title=\"Convert this dataframe to an interactive table.\"\n",
       "              style=\"display:none;\">\n",
       "        \n",
       "  <svg xmlns=\"http://www.w3.org/2000/svg\" height=\"24px\"viewBox=\"0 0 24 24\"\n",
       "       width=\"24px\">\n",
       "    <path d=\"M0 0h24v24H0V0z\" fill=\"none\"/>\n",
       "    <path d=\"M18.56 5.44l.94 2.06.94-2.06 2.06-.94-2.06-.94-.94-2.06-.94 2.06-2.06.94zm-11 1L8.5 8.5l.94-2.06 2.06-.94-2.06-.94L8.5 2.5l-.94 2.06-2.06.94zm10 10l.94 2.06.94-2.06 2.06-.94-2.06-.94-.94-2.06-.94 2.06-2.06.94z\"/><path d=\"M17.41 7.96l-1.37-1.37c-.4-.4-.92-.59-1.43-.59-.52 0-1.04.2-1.43.59L10.3 9.45l-7.72 7.72c-.78.78-.78 2.05 0 2.83L4 21.41c.39.39.9.59 1.41.59.51 0 1.02-.2 1.41-.59l7.78-7.78 2.81-2.81c.8-.78.8-2.07 0-2.86zM5.41 20L4 18.59l7.72-7.72 1.47 1.35L5.41 20z\"/>\n",
       "  </svg>\n",
       "      </button>\n",
       "      \n",
       "  <style>\n",
       "    .colab-df-container {\n",
       "      display:flex;\n",
       "      flex-wrap:wrap;\n",
       "      gap: 12px;\n",
       "    }\n",
       "\n",
       "    .colab-df-convert {\n",
       "      background-color: #E8F0FE;\n",
       "      border: none;\n",
       "      border-radius: 50%;\n",
       "      cursor: pointer;\n",
       "      display: none;\n",
       "      fill: #1967D2;\n",
       "      height: 32px;\n",
       "      padding: 0 0 0 0;\n",
       "      width: 32px;\n",
       "    }\n",
       "\n",
       "    .colab-df-convert:hover {\n",
       "      background-color: #E2EBFA;\n",
       "      box-shadow: 0px 1px 2px rgba(60, 64, 67, 0.3), 0px 1px 3px 1px rgba(60, 64, 67, 0.15);\n",
       "      fill: #174EA6;\n",
       "    }\n",
       "\n",
       "    [theme=dark] .colab-df-convert {\n",
       "      background-color: #3B4455;\n",
       "      fill: #D2E3FC;\n",
       "    }\n",
       "\n",
       "    [theme=dark] .colab-df-convert:hover {\n",
       "      background-color: #434B5C;\n",
       "      box-shadow: 0px 1px 3px 1px rgba(0, 0, 0, 0.15);\n",
       "      filter: drop-shadow(0px 1px 2px rgba(0, 0, 0, 0.3));\n",
       "      fill: #FFFFFF;\n",
       "    }\n",
       "  </style>\n",
       "\n",
       "      <script>\n",
       "        const buttonEl =\n",
       "          document.querySelector('#df-5c83571b-54d1-4af6-9a8e-0746ce6e99e2 button.colab-df-convert');\n",
       "        buttonEl.style.display =\n",
       "          google.colab.kernel.accessAllowed ? 'block' : 'none';\n",
       "\n",
       "        async function convertToInteractive(key) {\n",
       "          const element = document.querySelector('#df-5c83571b-54d1-4af6-9a8e-0746ce6e99e2');\n",
       "          const dataTable =\n",
       "            await google.colab.kernel.invokeFunction('convertToInteractive',\n",
       "                                                     [key], {});\n",
       "          if (!dataTable) return;\n",
       "\n",
       "          const docLinkHtml = 'Like what you see? Visit the ' +\n",
       "            '<a target=\"_blank\" href=https://colab.research.google.com/notebooks/data_table.ipynb>data table notebook</a>'\n",
       "            + ' to learn more about interactive tables.';\n",
       "          element.innerHTML = '';\n",
       "          dataTable['output_type'] = 'display_data';\n",
       "          await google.colab.output.renderOutput(dataTable, element);\n",
       "          const docLink = document.createElement('div');\n",
       "          docLink.innerHTML = docLinkHtml;\n",
       "          element.appendChild(docLink);\n",
       "        }\n",
       "      </script>\n",
       "    </div>\n",
       "  </div>\n",
       "  "
      ],
      "text/plain": [
       "   Return on Assets  Rev per share  Count\n",
       "0          0.023360     -11.573200     75\n",
       "1          0.114505      35.991895     95\n",
       "2          0.082992      11.788110    127\n",
       "3          0.056674       2.506522     92\n",
       "4          0.101653      21.833663    101"
      ]
     },
     "execution_count": 30,
     "metadata": {},
     "output_type": "execute_result"
    }
   ],
   "source": [
    "# Enrich Centers Df with the number of elements by Cluster\n",
    "clusters_centers_df['Count']=clustering_result['Cluster'].value_counts().to_frame().rename(columns={'Cluster':'Count'})['Count']\n",
    "clusters_centers_df.head()"
   ]
  },
  {
   "cell_type": "code",
   "execution_count": null,
   "id": "do6USed-l1zp",
   "metadata": {
    "colab": {
     "base_uri": "https://localhost:8080/",
     "height": 444
    },
    "id": "do6USed-l1zp",
    "outputId": "a6fb13ae-8042-4065-d88e-d31eb1c3d167"
   },
   "outputs": [
    {
     "data": {
      "image/png": "[encoded data removed]",
      "text/plain": [
       "<Figure size 792x504 with 1 Axes>"
      ]
     },
     "metadata": {},
     "output_type": "display_data"
    }
   ],
   "source": [
    "# Visualize Count of Elements by Cluster \n",
    "plt.figure(figsize=(11,7))\n",
    "plt.style.use(\"dark_background\")\n",
    "plt.bar(clusters_centers_df.index.values,clusters_centers_df['Count'])\n",
    "plt.title(\"Count of Elements by Cluster\")\n",
    "\n",
    "plt.show()"
   ]
  },
  {
   "cell_type": "markdown",
   "id": "wBhU5VbTl1zp",
   "metadata": {
    "id": "wBhU5VbTl1zp"
   },
   "source": [
    "## Portfolio Construction\n",
    "### <I>1. From each cluster, choose the stocks with the highest Risk Adjusted Momentum </I>"
   ]
  },
  {
   "cell_type": "markdown",
   "id": "Wf53CuSSl1zp",
   "metadata": {
    "id": "Wf53CuSSl1zp"
   },
   "source": [
    "We can use the 2 Year Historical Daily Prices endpoint from the ***yahoo finance*** to pull in the two year historical prices."
   ]
  },
  {
   "cell_type": "code",
   "execution_count": 88,
   "id": "BcOjuUmZQrGw",
   "metadata": {
    "id": "BcOjuUmZQrGw"
   },
   "outputs": [],
   "source": [
    "import yfinance as yf"
   ]
  },
  {
   "cell_type": "code",
   "execution_count": 119,
   "id": "lUfX4syZQT4i",
   "metadata": {
    "colab": {
     "base_uri": "https://localhost:8080/"
    },
    "id": "lUfX4syZQT4i",
    "outputId": "e7a47a30-4740-4aa4-a788-6e0ca5853c93"
   },
   "outputs": [
    {
     "name": "stdout",
     "output_type": "stream",
     "text": [
      "[*********************100%***********************]  505 of 505 completed\n"
     ]
    }
   ],
   "source": [
    "df1 = yf.download(stock_symbol_list, start=\"2020-03-01\", end=\"2022-03-01\")"
   ]
  },
  {
   "cell_type": "code",
   "execution_count": 120,
   "id": "mlqD_f6GUjKx",
   "metadata": {
    "colab": {
     "base_uri": "https://localhost:8080/"
    },
    "id": "mlqD_f6GUjKx",
    "outputId": "a07e1674-1fa2-4872-851a-c83e4e926313"
   },
   "outputs": [
    {
     "name": "stdout",
     "output_type": "stream",
     "text": [
      "                     A        AAL  ...       ZION         ZTS\n",
      "Date                               ...                       \n",
      "2020-03-02   80.872940  18.860001  ...  39.593410  137.339890\n",
      "2020-03-03   79.245033  17.850000  ...  37.292583  135.688736\n",
      "2020-03-04   83.221077  18.530001  ...  36.889938  141.996643\n",
      "2020-03-05   79.383156  16.040001  ...  34.608284  137.982513\n",
      "2020-03-06   77.508575  15.970000  ...  33.822163  135.500900\n",
      "...                ...        ...  ...        ...         ...\n",
      "2022-02-22  130.490005  17.430000  ...  70.889999  190.100006\n",
      "2022-02-23  126.000000  16.639999  ...  69.709999  187.059998\n",
      "2022-02-24  128.149994  16.959999  ...  66.970001  190.949997\n",
      "2022-02-25  133.729996  17.459999  ...  70.989998  194.710007\n",
      "2022-02-28  130.360001  17.250000  ...  70.889999  193.649994\n",
      "\n",
      "[504 rows x 505 columns]\n"
     ]
    }
   ],
   "source": [
    "df1 = df1['Adj Close']\n",
    "print(df1)"
   ]
  },
  {
   "cell_type": "code",
   "execution_count": 121,
   "id": "Z4xtlXoSVdfy",
   "metadata": {
    "colab": {
     "base_uri": "https://localhost:8080/"
    },
    "id": "Z4xtlXoSVdfy",
    "outputId": "570c6ee4-b434-4587-b830-8083411b5f70"
   },
   "outputs": [
    {
     "name": "stdout",
     "output_type": "stream",
     "text": [
      "\r",
      "[**************************121%****************************]  609 of 505 completed"
     ]
    }
   ],
   "source": [
    "df1.to_csv(\"stock daily price.csv\")"
   ]
  },
  {
   "cell_type": "code",
   "execution_count": 122,
   "id": "sY4TdBiil1zq",
   "metadata": {
    "colab": {
     "base_uri": "https://localhost:8080/",
     "height": 238
    },
    "id": "sY4TdBiil1zq",
    "outputId": "5bc49976-757f-4927-da94-595928b5272b"
   },
   "outputs": [
    {
     "data": {
      "text/html": [
       "\n",
       "  <div id=\"df-c349d991-adc9-4245-8859-8cd9d858745e\">\n",
       "    <div class=\"colab-df-container\">\n",
       "      <div>\n",
       "<style scoped>\n",
       "    .dataframe tbody tr th:only-of-type {\n",
       "        vertical-align: middle;\n",
       "    }\n",
       "\n",
       "    .dataframe tbody tr th {\n",
       "        vertical-align: top;\n",
       "    }\n",
       "\n",
       "    .dataframe thead th {\n",
       "        text-align: right;\n",
       "    }\n",
       "</style>\n",
       "<table border=\"1\" class=\"dataframe\">\n",
       "  <thead>\n",
       "    <tr style=\"text-align: right;\">\n",
       "      <th></th>\n",
       "      <th>Company</th>\n",
       "    </tr>\n",
       "    <tr>\n",
       "      <th>Cluster</th>\n",
       "      <th></th>\n",
       "    </tr>\n",
       "  </thead>\n",
       "  <tbody>\n",
       "    <tr>\n",
       "      <th>0</th>\n",
       "      <td>2.0</td>\n",
       "    </tr>\n",
       "    <tr>\n",
       "      <th>1</th>\n",
       "      <td>2.0</td>\n",
       "    </tr>\n",
       "    <tr>\n",
       "      <th>2</th>\n",
       "      <td>3.0</td>\n",
       "    </tr>\n",
       "    <tr>\n",
       "      <th>3</th>\n",
       "      <td>2.0</td>\n",
       "    </tr>\n",
       "    <tr>\n",
       "      <th>4</th>\n",
       "      <td>2.0</td>\n",
       "    </tr>\n",
       "  </tbody>\n",
       "</table>\n",
       "</div>\n",
       "      <button class=\"colab-df-convert\" onclick=\"convertToInteractive('df-c349d991-adc9-4245-8859-8cd9d858745e')\"\n",
       "              title=\"Convert this dataframe to an interactive table.\"\n",
       "              style=\"display:none;\">\n",
       "        \n",
       "  <svg xmlns=\"http://www.w3.org/2000/svg\" height=\"24px\"viewBox=\"0 0 24 24\"\n",
       "       width=\"24px\">\n",
       "    <path d=\"M0 0h24v24H0V0z\" fill=\"none\"/>\n",
       "    <path d=\"M18.56 5.44l.94 2.06.94-2.06 2.06-.94-2.06-.94-.94-2.06-.94 2.06-2.06.94zm-11 1L8.5 8.5l.94-2.06 2.06-.94-2.06-.94L8.5 2.5l-.94 2.06-2.06.94zm10 10l.94 2.06.94-2.06 2.06-.94-2.06-.94-.94-2.06-.94 2.06-2.06.94z\"/><path d=\"M17.41 7.96l-1.37-1.37c-.4-.4-.92-.59-1.43-.59-.52 0-1.04.2-1.43.59L10.3 9.45l-7.72 7.72c-.78.78-.78 2.05 0 2.83L4 21.41c.39.39.9.59 1.41.59.51 0 1.02-.2 1.41-.59l7.78-7.78 2.81-2.81c.8-.78.8-2.07 0-2.86zM5.41 20L4 18.59l7.72-7.72 1.47 1.35L5.41 20z\"/>\n",
       "  </svg>\n",
       "      </button>\n",
       "      \n",
       "  <style>\n",
       "    .colab-df-container {\n",
       "      display:flex;\n",
       "      flex-wrap:wrap;\n",
       "      gap: 12px;\n",
       "    }\n",
       "\n",
       "    .colab-df-convert {\n",
       "      background-color: #E8F0FE;\n",
       "      border: none;\n",
       "      border-radius: 50%;\n",
       "      cursor: pointer;\n",
       "      display: none;\n",
       "      fill: #1967D2;\n",
       "      height: 32px;\n",
       "      padding: 0 0 0 0;\n",
       "      width: 32px;\n",
       "    }\n",
       "\n",
       "    .colab-df-convert:hover {\n",
       "      background-color: #E2EBFA;\n",
       "      box-shadow: 0px 1px 2px rgba(60, 64, 67, 0.3), 0px 1px 3px 1px rgba(60, 64, 67, 0.15);\n",
       "      fill: #174EA6;\n",
       "    }\n",
       "\n",
       "    [theme=dark] .colab-df-convert {\n",
       "      background-color: #3B4455;\n",
       "      fill: #D2E3FC;\n",
       "    }\n",
       "\n",
       "    [theme=dark] .colab-df-convert:hover {\n",
       "      background-color: #434B5C;\n",
       "      box-shadow: 0px 1px 3px 1px rgba(0, 0, 0, 0.15);\n",
       "      filter: drop-shadow(0px 1px 2px rgba(0, 0, 0, 0.3));\n",
       "      fill: #FFFFFF;\n",
       "    }\n",
       "  </style>\n",
       "\n",
       "      <script>\n",
       "        const buttonEl =\n",
       "          document.querySelector('#df-c349d991-adc9-4245-8859-8cd9d858745e button.colab-df-convert');\n",
       "        buttonEl.style.display =\n",
       "          google.colab.kernel.accessAllowed ? 'block' : 'none';\n",
       "\n",
       "        async function convertToInteractive(key) {\n",
       "          const element = document.querySelector('#df-c349d991-adc9-4245-8859-8cd9d858745e');\n",
       "          const dataTable =\n",
       "            await google.colab.kernel.invokeFunction('convertToInteractive',\n",
       "                                                     [key], {});\n",
       "          if (!dataTable) return;\n",
       "\n",
       "          const docLinkHtml = 'Like what you see? Visit the ' +\n",
       "            '<a target=\"_blank\" href=https://colab.research.google.com/notebooks/data_table.ipynb>data table notebook</a>'\n",
       "            + ' to learn more about interactive tables.';\n",
       "          element.innerHTML = '';\n",
       "          dataTable['output_type'] = 'display_data';\n",
       "          await google.colab.output.renderOutput(dataTable, element);\n",
       "          const docLink = document.createElement('div');\n",
       "          docLink.innerHTML = docLinkHtml;\n",
       "          element.appendChild(docLink);\n",
       "        }\n",
       "      </script>\n",
       "    </div>\n",
       "  </div>\n",
       "  "
      ],
      "text/plain": [
       "         Company\n",
       "Cluster         \n",
       "0            2.0\n",
       "1            2.0\n",
       "2            3.0\n",
       "3            2.0\n",
       "4            2.0"
      ]
     },
     "execution_count": 122,
     "metadata": {},
     "output_type": "execute_result"
    }
   ],
   "source": [
    "# Build of Portfolio of 10 stocks\n",
    "number_of_stocks=10\n",
    "\n",
    "# From each Cluster, we will pick the stocks with the highest risk adjusted momentum. The number of stocks from each cluster is proportional to its size\n",
    "# Let's start by calculate the number of stocks to pick from each cluster\n",
    "number_of_stocks_by_cluster=pd.DataFrame(round(number_of_stocks*clustering_result.groupby(by='Cluster').count()['Company']/clustering_result.count()['Company'],0))\n",
    "number_of_stocks_by_cluster"
   ]
  },
  {
   "cell_type": "code",
   "execution_count": 123,
   "id": "oealNV6icllU",
   "metadata": {
    "colab": {
     "base_uri": "https://localhost:8080/"
    },
    "id": "oealNV6icllU",
    "outputId": "02816ce3-bc22-47bd-d26c-d2dd879851f1"
   },
   "outputs": [
    {
     "name": "stdout",
     "output_type": "stream",
     "text": [
      "\r",
      "[***************************125%*****************************]  629 of 505 completed"
     ]
    }
   ],
   "source": [
    "stock_daily_price_df = df1"
   ]
  },
  {
   "cell_type": "code",
   "execution_count": 131,
   "id": "wv4C2Vq8l1zr",
   "metadata": {
    "colab": {
     "base_uri": "https://localhost:8080/"
    },
    "id": "wv4C2Vq8l1zr",
    "outputId": "4ec903d3-3123-430f-d777-fea2ed4d9bda",
    "scrolled": true
   },
   "outputs": [
    {
     "data": {
      "text/plain": [
       "['BBWI', 'COF', 'NUE', 'DE', 'NWSA', 'TPR', 'JCI', 'PNR', 'TT', 'FCX', 'SIVB']"
      ]
     },
     "execution_count": 131,
     "metadata": {},
     "output_type": "execute_result"
    }
   ],
   "source": [
    "# From each Cluster, pick the stocks with the highest risk adjusted momentum.\n",
    "as_of_date='2021-06-30'\n",
    "\n",
    "portfolio_stocks=[]\n",
    "for cluster_num in list(number_of_stocks_by_cluster.index):\n",
    "    # for each cluster,get all the companies within this cluster\n",
    "    list_stocks=list(clustering_result.set_index('Cluster').loc[cluster_num]['Company'])\n",
    "    #get the number of stocks that we will pick for our portfolio     \n",
    "    number_stocks=number_of_stocks_by_cluster.loc[cluster_num]['Company']\n",
    "    if number_stocks>0:\n",
    "        # Compute the risk adjusted momentum for the past year\n",
    "        last_year_date=pd.to_datetime(as_of_date)+ pd.offsets.DateOffset(years=-1)\n",
    "        last_month_date=pd.to_datetime(as_of_date)+ pd.tseries.offsets.BusinessDay(offset = timedelta(days = -30))\n",
    "        stock_price_last_year_date = last_year_date.strftime('%Y-%m-%d')\n",
    "        stock_price_last_month_date = last_month_date.strftime('%Y-%m-%d')\n",
    "        \n",
    "        risk_adjusted_mom_frames = []\n",
    "        for ticker in list_stocks:\n",
    "\n",
    "            try:\n",
    "                momentum = (stock_daily_price_df .loc[stock_price_last_month_date,][ticker] - \\\n",
    "                            stock_daily_price_df .loc[stock_price_last_year_date,][ticker]) / \\\n",
    "                            stock_daily_price_df .loc[stock_price_last_year_date,][ticker]\n",
    "\n",
    "                annualized_volatility = np.log(stock_daily_price_df .loc[stock_price_last_year_date:as_of_date,][ticker] / \\\n",
    "                                               stock_daily_price_df .loc[stock_price_last_year_date:as_of_date,][ticker].shift(1)).dropna().std()*252**.5\n",
    "\n",
    "                risk_adjusted_momentum = momentum / annualized_volatility\n",
    "\n",
    "                # Create Dataframe\n",
    "                df = pd.DataFrame({'Risk Adj MoM': risk_adjusted_momentum},\n",
    "                                  index=[ticker])\n",
    "\n",
    "                risk_adjusted_mom_frames.append(df)\n",
    "\n",
    "            except:\n",
    "                pass\n",
    "\n",
    "        risk_adjusted_mom_df = pd.concat(risk_adjusted_mom_frames, ignore_index=False)\n",
    "        risk_adjusted_mom_df[\"Rank\"] = risk_adjusted_mom_df[\"Risk Adj MoM\"].rank(ascending=False)\n",
    "        risk_adjusted_mom_df[[\"Risk Adj MoM\", \n",
    "                              \"Rank\"]] = risk_adjusted_mom_df[[\"Risk Adj MoM\", \n",
    "                                                               \"Rank\"]].apply(pd.to_numeric)\n",
    "        filtered_risk_adjusted_mom_df = risk_adjusted_mom_df[risk_adjusted_mom_df['Rank'] <= number_stocks]\n",
    "        portfolio_stocks=portfolio_stocks+list(filtered_risk_adjusted_mom_df.index)\n",
    "\n",
    "portfolio_stocks"
   ]
  },
  {
   "cell_type": "markdown",
   "id": "H0zzWer4l1zr",
   "metadata": {
    "id": "H0zzWer4l1zr"
   },
   "source": [
    "### <I> 2. Compute Portfolio's Performance for 2022-Q1 </I>"
   ]
  },
  {
   "cell_type": "code",
   "execution_count": 132,
   "id": "6xH7HECvl1zs",
   "metadata": {
    "colab": {
     "base_uri": "https://localhost:8080/",
     "height": 455
    },
    "id": "6xH7HECvl1zs",
    "outputId": "364c1ca6-4642-4d28-97ab-370922c5ca1b"
   },
   "outputs": [
    {
     "data": {
      "text/html": [
       "\n",
       "  <div id=\"df-161d1509-bee3-4eba-a30e-e05e29c250f4\">\n",
       "    <div class=\"colab-df-container\">\n",
       "      <div>\n",
       "<style scoped>\n",
       "    .dataframe tbody tr th:only-of-type {\n",
       "        vertical-align: middle;\n",
       "    }\n",
       "\n",
       "    .dataframe tbody tr th {\n",
       "        vertical-align: top;\n",
       "    }\n",
       "\n",
       "    .dataframe thead th {\n",
       "        text-align: right;\n",
       "    }\n",
       "</style>\n",
       "<table border=\"1\" class=\"dataframe\">\n",
       "  <thead>\n",
       "    <tr style=\"text-align: right;\">\n",
       "      <th></th>\n",
       "      <th>cluster_portfolio_return</th>\n",
       "      <th>spx_index_return</th>\n",
       "    </tr>\n",
       "    <tr>\n",
       "      <th>DATE</th>\n",
       "      <th></th>\n",
       "      <th></th>\n",
       "    </tr>\n",
       "  </thead>\n",
       "  <tbody>\n",
       "    <tr>\n",
       "      <th>2021-07-01</th>\n",
       "      <td>1.007202</td>\n",
       "      <td>1.007118</td>\n",
       "    </tr>\n",
       "    <tr>\n",
       "      <th>2021-07-02</th>\n",
       "      <td>1.000126</td>\n",
       "      <td>1.002417</td>\n",
       "    </tr>\n",
       "    <tr>\n",
       "      <th>2021-07-06</th>\n",
       "      <td>0.982711</td>\n",
       "      <td>0.991619</td>\n",
       "    </tr>\n",
       "    <tr>\n",
       "      <th>2021-07-07</th>\n",
       "      <td>1.006642</td>\n",
       "      <td>1.002119</td>\n",
       "    </tr>\n",
       "    <tr>\n",
       "      <th>2021-07-08</th>\n",
       "      <td>0.981981</td>\n",
       "      <td>0.989799</td>\n",
       "    </tr>\n",
       "    <tr>\n",
       "      <th>...</th>\n",
       "      <td>...</td>\n",
       "      <td>...</td>\n",
       "    </tr>\n",
       "    <tr>\n",
       "      <th>2022-02-22</th>\n",
       "      <td>0.984509</td>\n",
       "      <td>0.990341</td>\n",
       "    </tr>\n",
       "    <tr>\n",
       "      <th>2022-02-23</th>\n",
       "      <td>0.981002</td>\n",
       "      <td>0.983627</td>\n",
       "    </tr>\n",
       "    <tr>\n",
       "      <th>2022-02-24</th>\n",
       "      <td>1.015385</td>\n",
       "      <td>1.011289</td>\n",
       "    </tr>\n",
       "    <tr>\n",
       "      <th>2022-02-25</th>\n",
       "      <td>1.037782</td>\n",
       "      <td>1.027228</td>\n",
       "    </tr>\n",
       "    <tr>\n",
       "      <th>2022-02-28</th>\n",
       "      <td>0.999866</td>\n",
       "      <td>0.994151</td>\n",
       "    </tr>\n",
       "  </tbody>\n",
       "</table>\n",
       "<p>167 rows × 2 columns</p>\n",
       "</div>\n",
       "      <button class=\"colab-df-convert\" onclick=\"convertToInteractive('df-161d1509-bee3-4eba-a30e-e05e29c250f4')\"\n",
       "              title=\"Convert this dataframe to an interactive table.\"\n",
       "              style=\"display:none;\">\n",
       "        \n",
       "  <svg xmlns=\"http://www.w3.org/2000/svg\" height=\"24px\"viewBox=\"0 0 24 24\"\n",
       "       width=\"24px\">\n",
       "    <path d=\"M0 0h24v24H0V0z\" fill=\"none\"/>\n",
       "    <path d=\"M18.56 5.44l.94 2.06.94-2.06 2.06-.94-2.06-.94-.94-2.06-.94 2.06-2.06.94zm-11 1L8.5 8.5l.94-2.06 2.06-.94-2.06-.94L8.5 2.5l-.94 2.06-2.06.94zm10 10l.94 2.06.94-2.06 2.06-.94-2.06-.94-.94-2.06-.94 2.06-2.06.94z\"/><path d=\"M17.41 7.96l-1.37-1.37c-.4-.4-.92-.59-1.43-.59-.52 0-1.04.2-1.43.59L10.3 9.45l-7.72 7.72c-.78.78-.78 2.05 0 2.83L4 21.41c.39.39.9.59 1.41.59.51 0 1.02-.2 1.41-.59l7.78-7.78 2.81-2.81c.8-.78.8-2.07 0-2.86zM5.41 20L4 18.59l7.72-7.72 1.47 1.35L5.41 20z\"/>\n",
       "  </svg>\n",
       "      </button>\n",
       "      \n",
       "  <style>\n",
       "    .colab-df-container {\n",
       "      display:flex;\n",
       "      flex-wrap:wrap;\n",
       "      gap: 12px;\n",
       "    }\n",
       "\n",
       "    .colab-df-convert {\n",
       "      background-color: #E8F0FE;\n",
       "      border: none;\n",
       "      border-radius: 50%;\n",
       "      cursor: pointer;\n",
       "      display: none;\n",
       "      fill: #1967D2;\n",
       "      height: 32px;\n",
       "      padding: 0 0 0 0;\n",
       "      width: 32px;\n",
       "    }\n",
       "\n",
       "    .colab-df-convert:hover {\n",
       "      background-color: #E2EBFA;\n",
       "      box-shadow: 0px 1px 2px rgba(60, 64, 67, 0.3), 0px 1px 3px 1px rgba(60, 64, 67, 0.15);\n",
       "      fill: #174EA6;\n",
       "    }\n",
       "\n",
       "    [theme=dark] .colab-df-convert {\n",
       "      background-color: #3B4455;\n",
       "      fill: #D2E3FC;\n",
       "    }\n",
       "\n",
       "    [theme=dark] .colab-df-convert:hover {\n",
       "      background-color: #434B5C;\n",
       "      box-shadow: 0px 1px 3px 1px rgba(0, 0, 0, 0.15);\n",
       "      filter: drop-shadow(0px 1px 2px rgba(0, 0, 0, 0.3));\n",
       "      fill: #FFFFFF;\n",
       "    }\n",
       "  </style>\n",
       "\n",
       "      <script>\n",
       "        const buttonEl =\n",
       "          document.querySelector('#df-161d1509-bee3-4eba-a30e-e05e29c250f4 button.colab-df-convert');\n",
       "        buttonEl.style.display =\n",
       "          google.colab.kernel.accessAllowed ? 'block' : 'none';\n",
       "\n",
       "        async function convertToInteractive(key) {\n",
       "          const element = document.querySelector('#df-161d1509-bee3-4eba-a30e-e05e29c250f4');\n",
       "          const dataTable =\n",
       "            await google.colab.kernel.invokeFunction('convertToInteractive',\n",
       "                                                     [key], {});\n",
       "          if (!dataTable) return;\n",
       "\n",
       "          const docLinkHtml = 'Like what you see? Visit the ' +\n",
       "            '<a target=\"_blank\" href=https://colab.research.google.com/notebooks/data_table.ipynb>data table notebook</a>'\n",
       "            + ' to learn more about interactive tables.';\n",
       "          element.innerHTML = '';\n",
       "          dataTable['output_type'] = 'display_data';\n",
       "          await google.colab.output.renderOutput(dataTable, element);\n",
       "          const docLink = document.createElement('div');\n",
       "          docLink.innerHTML = docLinkHtml;\n",
       "          element.appendChild(docLink);\n",
       "        }\n",
       "      </script>\n",
       "    </div>\n",
       "  </div>\n",
       "  "
      ],
      "text/plain": [
       "            cluster_portfolio_return  spx_index_return\n",
       "DATE                                                  \n",
       "2021-07-01                  1.007202          1.007118\n",
       "2021-07-02                  1.000126          1.002417\n",
       "2021-07-06                  0.982711          0.991619\n",
       "2021-07-07                  1.006642          1.002119\n",
       "2021-07-08                  0.981981          0.989799\n",
       "...                              ...               ...\n",
       "2022-02-22                  0.984509          0.990341\n",
       "2022-02-23                  0.981002          0.983627\n",
       "2022-02-24                  1.015385          1.011289\n",
       "2022-02-25                  1.037782          1.027228\n",
       "2022-02-28                  0.999866          0.994151\n",
       "\n",
       "[167 rows x 2 columns]"
      ]
     },
     "execution_count": 132,
     "metadata": {},
     "output_type": "execute_result"
    }
   ],
   "source": [
    "# Since we chose our portfolio stocks by end the of 2021-Q4, we will run it for 2022-Q1 \n",
    "end_date='2022-03-01'\n",
    "\n",
    "# Compute the portfolio return. We will use equal weights for all the stocks\n",
    "stock_daily_price_df  = stock_daily_price_df .apply(pd.to_numeric)\n",
    "s_p_500_daily_return = (stock_daily_price_df .loc[as_of_date:end_date,].pct_change().sum(axis=1).dropna()/len(stock_daily_price_df .columns)) + 1\n",
    "cluster_portfolio_return=0\n",
    "for stock in portfolio_stocks:\n",
    "    daily_return = stock_daily_price_df .loc[as_of_date:end_date,][stock].pct_change().dropna() + 1\n",
    "    cluster_portfolio_return=cluster_portfolio_return+(daily_return/len(portfolio_stocks))\n",
    "\n",
    "# Create Dataframe\n",
    "df = pd.DataFrame({'cluster_portfolio_return':cluster_portfolio_return,\n",
    "                   'spx_index_return':s_p_500_daily_return},)\n",
    "\n",
    "df.index.name = 'DATE'\n",
    "return_ptf_index = df.dropna()\n",
    "return_ptf_index = return_ptf_index.apply(pd.to_numeric)\n",
    "\n",
    "return_ptf_index"
   ]
  },
  {
   "cell_type": "code",
   "execution_count": 133,
   "id": "B8iq9hX3l1zs",
   "metadata": {
    "colab": {
     "base_uri": "https://localhost:8080/",
     "height": 541
    },
    "id": "B8iq9hX3l1zs",
    "outputId": "c871e349-e9e4-4361-bc00-48d3bddcc110"
   },
   "outputs": [
    {
     "name": "stdout",
     "output_type": "stream",
     "text": [
      "Portfolio Annual Excess Return : 3.74%\n",
      "Portfolio Annual Volatility    : 23.43% \n",
      "Portfolio Sharpe Ratio         : 0.16\n"
     ]
    },
    {
     "data": {
      "image/png": "[encoded data removed]",
      "text/plain": [
       "<Figure size 1296x576 with 1 Axes>"
      ]
     },
     "metadata": {},
     "output_type": "display_data"
    }
   ],
   "source": [
    "# Compute the annual volatility, sharpe ratio and annual excess return and plot the cumulative return\n",
    "from math import sqrt\n",
    "\n",
    "# compute the timeline for annualization\n",
    "T = (pd.to_datetime(return_ptf_index['cluster_portfolio_return'].index[-1]) - pd.to_datetime(return_ptf_index['cluster_portfolio_return'].index[0])) / np.timedelta64(1, 'Y')\n",
    "\n",
    "#portfolio Excess Return\n",
    "portfolio_excess_return=round(100*(return_ptf_index['cluster_portfolio_return'].cumprod().iloc[-1]**(1/T) - 1),2)\n",
    "\n",
    "#Portfolio Annual Volatility\n",
    "portfolio_annual_volatility=round(100*return_ptf_index['cluster_portfolio_return'].std()*sqrt(252),2)\n",
    "\n",
    "#Portfolio Sharpe Ratio\n",
    "portfolio_sharpe_ratio=round((portfolio_excess_return)/portfolio_annual_volatility,2)\n",
    "\n",
    "# Plot Results\n",
    "print (\"Portfolio Annual Excess Return : {}%\".format(portfolio_excess_return))\n",
    "print (\"Portfolio Annual Volatility    : {}% \".format(portfolio_annual_volatility))\n",
    "print (\"Portfolio Sharpe Ratio         : {}\".format(portfolio_sharpe_ratio)) \n",
    "\n",
    "plt.figure(figsize = (18,8))\n",
    "ax = plt.gca()\n",
    "plt.title(\"Portfolio Performance\")\n",
    "return_ptf_index['cluster_portfolio_return'].cumprod().plot(ax=ax,color=sns.color_palette()[1],linewidth=2)\n",
    "return_ptf_index['spx_index_return'].cumprod().plot(ax=ax,color=sns.color_palette()[2],linewidth=2)\n",
    "plt.ylabel(\"Cumulative Return %\")\n",
    "plt.legend()\n",
    "plt.show()"
   ]
  }
 ],
 "metadata": {
  "colab": {
   "collapsed_sections": [],
   "name": "Machine Learning used to build a Diversified Portfolio with K-Means Clustering.ipynb",
   "provenance": []
  },
  "kernelspec": {
   "display_name": "Python 3",
   "language": "python",
   "name": "python3"
  },
  "language_info": {
   "codemirror_mode": {
    "name": "ipython",
    "version": 3
   },
   "file_extension": ".py",
   "mimetype": "text/x-python",
   "name": "python",
   "nbconvert_exporter": "python",
   "pygments_lexer": "ipython3",
   "version": "3.9.2"
  }
 },
 "nbformat": 4,
 "nbformat_minor": 5
}
